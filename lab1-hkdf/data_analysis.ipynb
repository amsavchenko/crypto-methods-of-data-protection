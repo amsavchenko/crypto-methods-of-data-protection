{
 "cells": [
  {
   "cell_type": "code",
   "execution_count": 64,
   "metadata": {},
   "outputs": [],
   "source": [
    "import pandas as pd\n",
    "%matplotlib inline\n",
    "import matplotlib.pyplot as plt\n",
    "import pickle"
   ]
  },
  {
   "cell_type": "markdown",
   "metadata": {},
   "source": [
    "## Анализ данных о погоде"
   ]
  },
  {
   "cell_type": "code",
   "execution_count": 2,
   "metadata": {},
   "outputs": [],
   "source": [
    "path_to_weather_json = \"weather.json\""
   ]
  },
  {
   "cell_type": "code",
   "execution_count": 11,
   "metadata": {},
   "outputs": [],
   "source": [
    "with open(path_to_weather_json, 'r') as file:\n",
    "    weather = json.load(file)"
   ]
  },
  {
   "cell_type": "code",
   "execution_count": 18,
   "metadata": {},
   "outputs": [],
   "source": [
    "weather_hourly = weather['hourly']['data']"
   ]
  },
  {
   "cell_type": "code",
   "execution_count": 21,
   "metadata": {},
   "outputs": [
    {
     "data": {
      "text/html": [
       "<div>\n",
       "<style scoped>\n",
       "    .dataframe tbody tr th:only-of-type {\n",
       "        vertical-align: middle;\n",
       "    }\n",
       "\n",
       "    .dataframe tbody tr th {\n",
       "        vertical-align: top;\n",
       "    }\n",
       "\n",
       "    .dataframe thead th {\n",
       "        text-align: right;\n",
       "    }\n",
       "</style>\n",
       "<table border=\"1\" class=\"dataframe\">\n",
       "  <thead>\n",
       "    <tr style=\"text-align: right;\">\n",
       "      <th></th>\n",
       "      <th>time</th>\n",
       "      <th>summary</th>\n",
       "      <th>icon</th>\n",
       "      <th>precipIntensity</th>\n",
       "      <th>precipProbability</th>\n",
       "      <th>temperature</th>\n",
       "      <th>apparentTemperature</th>\n",
       "      <th>dewPoint</th>\n",
       "      <th>humidity</th>\n",
       "      <th>pressure</th>\n",
       "      <th>windSpeed</th>\n",
       "      <th>windGust</th>\n",
       "      <th>windBearing</th>\n",
       "      <th>cloudCover</th>\n",
       "      <th>uvIndex</th>\n",
       "      <th>visibility</th>\n",
       "      <th>ozone</th>\n",
       "      <th>precipType</th>\n",
       "    </tr>\n",
       "  </thead>\n",
       "  <tbody>\n",
       "    <tr>\n",
       "      <td>0</td>\n",
       "      <td>1582095600</td>\n",
       "      <td>Clear</td>\n",
       "      <td>clear-night</td>\n",
       "      <td>0.0000</td>\n",
       "      <td>0.00</td>\n",
       "      <td>50.78</td>\n",
       "      <td>50.78</td>\n",
       "      <td>40.73</td>\n",
       "      <td>0.68</td>\n",
       "      <td>1018.6</td>\n",
       "      <td>4.55</td>\n",
       "      <td>5.51</td>\n",
       "      <td>307</td>\n",
       "      <td>0.06</td>\n",
       "      <td>0</td>\n",
       "      <td>10</td>\n",
       "      <td>339.7</td>\n",
       "      <td>NaN</td>\n",
       "    </tr>\n",
       "    <tr>\n",
       "      <td>1</td>\n",
       "      <td>1582099200</td>\n",
       "      <td>Clear</td>\n",
       "      <td>clear-night</td>\n",
       "      <td>0.0000</td>\n",
       "      <td>0.00</td>\n",
       "      <td>49.93</td>\n",
       "      <td>48.46</td>\n",
       "      <td>40.77</td>\n",
       "      <td>0.71</td>\n",
       "      <td>1018.7</td>\n",
       "      <td>4.48</td>\n",
       "      <td>5.15</td>\n",
       "      <td>200</td>\n",
       "      <td>0.10</td>\n",
       "      <td>0</td>\n",
       "      <td>10</td>\n",
       "      <td>339.0</td>\n",
       "      <td>NaN</td>\n",
       "    </tr>\n",
       "    <tr>\n",
       "      <td>2</td>\n",
       "      <td>1582102800</td>\n",
       "      <td>Clear</td>\n",
       "      <td>clear-night</td>\n",
       "      <td>0.0010</td>\n",
       "      <td>0.02</td>\n",
       "      <td>49.61</td>\n",
       "      <td>48.16</td>\n",
       "      <td>41.47</td>\n",
       "      <td>0.73</td>\n",
       "      <td>1018.9</td>\n",
       "      <td>4.36</td>\n",
       "      <td>5.69</td>\n",
       "      <td>238</td>\n",
       "      <td>0.12</td>\n",
       "      <td>0</td>\n",
       "      <td>10</td>\n",
       "      <td>338.0</td>\n",
       "      <td>rain</td>\n",
       "    </tr>\n",
       "    <tr>\n",
       "      <td>3</td>\n",
       "      <td>1582106400</td>\n",
       "      <td>Clear</td>\n",
       "      <td>clear-night</td>\n",
       "      <td>0.0003</td>\n",
       "      <td>0.01</td>\n",
       "      <td>49.13</td>\n",
       "      <td>47.61</td>\n",
       "      <td>42.03</td>\n",
       "      <td>0.76</td>\n",
       "      <td>1019.0</td>\n",
       "      <td>4.36</td>\n",
       "      <td>5.82</td>\n",
       "      <td>248</td>\n",
       "      <td>0.14</td>\n",
       "      <td>0</td>\n",
       "      <td>10</td>\n",
       "      <td>336.1</td>\n",
       "      <td>rain</td>\n",
       "    </tr>\n",
       "    <tr>\n",
       "      <td>4</td>\n",
       "      <td>1582110000</td>\n",
       "      <td>Clear</td>\n",
       "      <td>clear-night</td>\n",
       "      <td>0.0022</td>\n",
       "      <td>0.03</td>\n",
       "      <td>48.59</td>\n",
       "      <td>47.24</td>\n",
       "      <td>42.24</td>\n",
       "      <td>0.79</td>\n",
       "      <td>1019.1</td>\n",
       "      <td>4.00</td>\n",
       "      <td>5.45</td>\n",
       "      <td>250</td>\n",
       "      <td>0.15</td>\n",
       "      <td>0</td>\n",
       "      <td>10</td>\n",
       "      <td>333.7</td>\n",
       "      <td>rain</td>\n",
       "    </tr>\n",
       "  </tbody>\n",
       "</table>\n",
       "</div>"
      ],
      "text/plain": [
       "         time summary         icon  precipIntensity  precipProbability  \\\n",
       "0  1582095600   Clear  clear-night           0.0000               0.00   \n",
       "1  1582099200   Clear  clear-night           0.0000               0.00   \n",
       "2  1582102800   Clear  clear-night           0.0010               0.02   \n",
       "3  1582106400   Clear  clear-night           0.0003               0.01   \n",
       "4  1582110000   Clear  clear-night           0.0022               0.03   \n",
       "\n",
       "   temperature  apparentTemperature  dewPoint  humidity  pressure  windSpeed  \\\n",
       "0        50.78                50.78     40.73      0.68    1018.6       4.55   \n",
       "1        49.93                48.46     40.77      0.71    1018.7       4.48   \n",
       "2        49.61                48.16     41.47      0.73    1018.9       4.36   \n",
       "3        49.13                47.61     42.03      0.76    1019.0       4.36   \n",
       "4        48.59                47.24     42.24      0.79    1019.1       4.00   \n",
       "\n",
       "   windGust  windBearing  cloudCover  uvIndex  visibility  ozone precipType  \n",
       "0      5.51          307        0.06        0          10  339.7        NaN  \n",
       "1      5.15          200        0.10        0          10  339.0        NaN  \n",
       "2      5.69          238        0.12        0          10  338.0       rain  \n",
       "3      5.82          248        0.14        0          10  336.1       rain  \n",
       "4      5.45          250        0.15        0          10  333.7       rain  "
      ]
     },
     "execution_count": 21,
     "metadata": {},
     "output_type": "execute_result"
    }
   ],
   "source": [
    "weather_hourly_df = pd.DataFrame(weather_hourly)\n",
    "weather_hourly_df.head()"
   ]
  },
  {
   "cell_type": "code",
   "execution_count": 61,
   "metadata": {},
   "outputs": [
    {
     "data": {
      "image/png": "[encoded data removed]",
      "text/plain": [
       "<Figure size 720x360 with 1 Axes>"
      ]
     },
     "metadata": {},
     "output_type": "display_data"
    },
    {
     "data": {
      "image/png": "[encoded data removed]",
      "text/plain": [
       "<Figure size 720x360 with 1 Axes>"
      ]
     },
     "metadata": {},
     "output_type": "display_data"
    },
    {
     "data": {
      "image/png": "[encoded data removed]",
      "text/plain": [
       "<Figure size 720x360 with 1 Axes>"
      ]
     },
     "metadata": {},
     "output_type": "display_data"
    },
    {
     "data": {
      "image/png": "[encoded data removed]",
      "text/plain": [
       "<Figure size 720x360 with 1 Axes>"
      ]
     },
     "metadata": {},
     "output_type": "display_data"
    },
    {
     "data": {
      "image/png": "[encoded data removed]",
      "text/plain": [
       "<Figure size 720x360 with 1 Axes>"
      ]
     },
     "metadata": {},
     "output_type": "display_data"
    }
   ],
   "source": [
    "def create_and_save_hist(df, column_name):\n",
    "    plt.figure(figsize=(10,5))\n",
    "    plt.title('Histogram of %s' % column_name) \n",
    "    plt.hist(df['%s' % column_name], bins=17, color='g')\n",
    "    plt.savefig('hists/%s_hist' % column_name)\n",
    "    \n",
    "needed_columns = ['temperature', 'humidity', 'windSpeed', 'cloudCover', 'ozone']\n",
    "for column in needed_columns:\n",
    "    create_and_save_hist(weather_hourly_df, column)"
   ]
  },
  {
   "cell_type": "markdown",
   "metadata": {},
   "source": [
    "Распределение значений ни в одной из колонок не напоминает равномерное."
   ]
  },
  {
   "cell_type": "markdown",
   "metadata": {},
   "source": [
    "*Для задания 2 вытащу столбец windSpeed*"
   ]
  },
  {
   "cell_type": "code",
   "execution_count": 62,
   "metadata": {},
   "outputs": [],
   "source": [
    "windSpeed_column = weather_hourly_df.loc[:, 'windSpeed']"
   ]
  },
  {
   "cell_type": "code",
   "execution_count": 68,
   "metadata": {},
   "outputs": [],
   "source": [
    "with open('windSpeed_column.pickle', 'wb') as file:\n",
    "    pickle.dump(list(windSpeed_column), file)"
   ]
  },
  {
   "cell_type": "markdown",
   "metadata": {},
   "source": [
    "## Анализ 5 битов паролей"
   ]
  },
  {
   "cell_type": "code",
   "execution_count": 79,
   "metadata": {},
   "outputs": [],
   "source": [
    "def str_to_bytes(string):\n",
    "    return string.encode('utf-8')\n",
    "\n",
    "def extract_first_5_bits_from_key(key, lower_bound, upper_bound):\n",
    "    return int('{:08b}'.format(key[0])[lower_bound:upper_bound], 2)"
   ]
  },
  {
   "cell_type": "code",
   "execution_count": 80,
   "metadata": {},
   "outputs": [],
   "source": [
    "lower_bound, upper_bound = 3, 8"
   ]
  },
  {
   "cell_type": "code",
   "execution_count": 72,
   "metadata": {},
   "outputs": [],
   "source": [
    "path_to_passwords_json = \"passwords.json\"\n",
    "with open(path_to_passwords_json, 'r') as file:\n",
    "    passwords = json.load(file)"
   ]
  },
  {
   "cell_type": "code",
   "execution_count": 75,
   "metadata": {},
   "outputs": [],
   "source": [
    "passwords_bytes = [str_to_bytes(password) for password in passwords]"
   ]
  },
  {
   "cell_type": "code",
   "execution_count": 83,
   "metadata": {},
   "outputs": [],
   "source": [
    "first_bits_of_passwords = [extract_first_5_bits_from_key(password, lower_bound, upper_bound) \n",
    "                           for password in passwords_bytes]"
   ]
  },
  {
   "cell_type": "code",
   "execution_count": 91,
   "metadata": {},
   "outputs": [
    {
     "data": {
      "image/png": "[encoded data removed]",
      "text/plain": [
       "<Figure size 720x360 with 1 Axes>"
      ]
     },
     "metadata": {},
     "output_type": "display_data"
    }
   ],
   "source": [
    "plt.figure(figsize=(10,5))\n",
    "plt.title('Histogram of first 5 bits of passwords') \n",
    "plt.hist(first_bits_of_passwords, bins=10, color='g')\n",
    "plt.savefig('hists/5_bits_passwords')"
   ]
  },
  {
   "cell_type": "markdown",
   "metadata": {},
   "source": [
    "Распределение не похоже на равномерное."
   ]
  }
 ],
 "metadata": {
  "kernelspec": {
   "display_name": "Python 3",
   "language": "python",
   "name": "python3"
  },
  "language_info": {
   "codemirror_mode": {
    "name": "ipython",
    "version": 3
   },
   "file_extension": ".py",
   "mimetype": "text/x-python",
   "name": "python",
   "nbconvert_exporter": "python",
   "pygments_lexer": "ipython3",
   "version": "3.6.5"
  }
 },
 "nbformat": 4,
 "nbformat_minor": 2
}
