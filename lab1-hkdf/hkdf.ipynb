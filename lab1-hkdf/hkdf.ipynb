{
 "cells": [
  {
   "cell_type": "code",
   "execution_count": 1,
   "metadata": {},
   "outputs": [],
   "source": [
    "import os\n",
    "%matplotlib inline\n",
    "import matplotlib.pyplot as plt\n",
    "from hashlib import sha256\n",
    "import pickle\n",
    "from hmac import HMAC"
   ]
  },
  {
   "cell_type": "code",
   "execution_count": 2,
   "metadata": {},
   "outputs": [],
   "source": [
    "def str_to_bytes(string):\n",
    "    return string.encode('utf-8')\n",
    "\n",
    "def int_to_bytes(x):\n",
    "    return x.to_bytes(blocksize, order)\n",
    "\n",
    "def bytes_to_int(x_bytes):\n",
    "    return int.from_bytes(x_bytes, order)\n",
    "\n",
    "def hmac_sha256(key, data):\n",
    "    k_xor_opad, k_xor_ipad = bytearray(), bytearray()\n",
    "    if len(key) < blocksize:\n",
    "        key = zero_byte.to_bytes(blocksize-len(key), order) + key\n",
    "    for i in range(blocksize):\n",
    "        k_xor_opad.append(key[i] ^ 0x5c)\n",
    "        k_xor_ipad.append(key[i] ^ 0x36)\n",
    "    return sha256(k_xor_opad + sha256(k_xor_ipad + data).digest()).digest()\n",
    "\n",
    "def hkdf_extract(xts, skm):\n",
    "    return hmac_sha256(xts, skm)\n",
    "\n",
    "def hkdf_expand(prk, last_key, ctx, i):\n",
    "    return hmac_sha256(prk, last_key + ctx + int_to_bytes(i-1))"
   ]
  },
  {
   "cell_type": "code",
   "execution_count": 3,
   "metadata": {},
   "outputs": [],
   "source": [
    "def generate_keys(xts, skm, ctx, number_of_iterations):\n",
    "    keys = []\n",
    "    keys.append(str_to_bytes(''))\n",
    "    prk = hkdf_extract(xts, skm)\n",
    "    for i in range(1, number_of_iterations):\n",
    "        key_i = hkdf_expand(prk, keys[i-1], ctx, i)\n",
    "        keys.append(key_i)\n",
    "    return keys[1:]\n",
    "\n",
    "def extract_first_5_bits_from_key(key, lower_bound, upper_bound):\n",
    "    return int('{:08b}'.format(key[0])[lower_bound:upper_bound], 2)"
   ]
  },
  {
   "cell_type": "code",
   "execution_count": 4,
   "metadata": {},
   "outputs": [],
   "source": [
    "order = 'big' # big endian\n",
    "zero_byte = 0\n",
    "lower_bound, upper_bound = 3, 8\n",
    "blocksize = 64\n",
    "nickname_for_ctx = \"amsavchenko\"\n",
    "number_of_iterations = 1000\n",
    "test_key, test_data = int_to_bytes(0x5c132), str_to_bytes('hello, it is test')"
   ]
  },
  {
   "cell_type": "code",
   "execution_count": 5,
   "metadata": {},
   "outputs": [],
   "source": [
    "# Проверка на то, что написанная hmac_sha256 работает аналогично HMAC из библиотеки hmac\n",
    "assert(hmac_sha256(test_key, test_data) == HMAC(test_key, test_data, sha256).digest())"
   ]
  },
  {
   "cell_type": "code",
   "execution_count": 6,
   "metadata": {},
   "outputs": [],
   "source": [
    "with open('windSpeed_column.pickle', 'rb') as file:\n",
    "    windSpeed_column = pickle.load(file)\n",
    "\n",
    "# хэш от столбца windSpeed \n",
    "skm = sha256(str_to_bytes(str(windSpeed_column))).digest()\n",
    "\n",
    "# контекст\n",
    "ctx = str_to_bytes(nickname_for_ctx)\n",
    "\n",
    "# соль\n",
    "xts = os.urandom(blocksize)"
   ]
  },
  {
   "cell_type": "markdown",
   "metadata": {},
   "source": [
    "Почему так выбрана соль - **os.urandom(size)** - This function returns random bytes from an OS-specific randomness source. The returned data should be *unpredictable enough for cryptographic applications*. \n",
    "https://docs.python.org/3.6/library/os.html#os.urandom"
   ]
  },
  {
   "cell_type": "markdown",
   "metadata": {},
   "source": [
    "Генерация ключей и вытаскивание первых 5 битов из каждого:"
   ]
  },
  {
   "cell_type": "code",
   "execution_count": 7,
   "metadata": {},
   "outputs": [],
   "source": [
    "keys = generate_keys(xts, skm, ctx, number_of_iterations)\n",
    "\n",
    "first_bits_of_keys = [extract_first_5_bits_from_key(key, lower_bound, upper_bound) for key in keys]"
   ]
  },
  {
   "cell_type": "code",
   "execution_count": 8,
   "metadata": {},
   "outputs": [
    {
     "data": {
      "image/png": "[encoded data removed]",
      "text/plain": [
       "<Figure size 720x360 with 1 Axes>"
      ]
     },
     "metadata": {},
     "output_type": "display_data"
    }
   ],
   "source": [
    "plt.figure(figsize=(10,5))\n",
    "plt.title('Histogram of first 5 bits of HKDF keys') \n",
    "plt.hist(first_bits_of_keys, bins=10, color='tan')\n",
    "plt.savefig('hists/5_bits_hkdf_keys')"
   ]
  },
  {
   "cell_type": "markdown",
   "metadata": {},
   "source": [
    "Полученное распределение похоже на равномерное."
   ]
  }
 ],
 "metadata": {
  "kernelspec": {
   "display_name": "Python 3",
   "language": "python",
   "name": "python3"
  },
  "language_info": {
   "codemirror_mode": {
    "name": "ipython",
    "version": 3
   },
   "file_extension": ".py",
   "mimetype": "text/x-python",
   "name": "python",
   "nbconvert_exporter": "python",
   "pygments_lexer": "ipython3",
   "version": "3.6.5"
  }
 },
 "nbformat": 4,
 "nbformat_minor": 2
}
