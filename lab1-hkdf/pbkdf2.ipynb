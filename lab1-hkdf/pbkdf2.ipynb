{
 "cells": [
  {
   "cell_type": "code",
   "execution_count": 66,
   "metadata": {},
   "outputs": [],
   "source": [
    "%matplotlib inline\n",
    "import matplotlib.pyplot as plt\n",
    "from hashlib import sha256\n",
    "import os\n",
    "import json"
   ]
  },
  {
   "cell_type": "code",
   "execution_count": 91,
   "metadata": {},
   "outputs": [],
   "source": [
    "def str_to_bytes(string):\n",
    "    return string.encode('utf-8')\n",
    "\n",
    "def int_to_bytes(x):\n",
    "    return x.to_bytes(blocksize, order)\n",
    "\n",
    "def bytes_to_int(x_bytes):\n",
    "    return int.from_bytes(x_bytes, order)\n",
    "\n",
    "def hmac_sha256(key, data):\n",
    "    k_xor_opad, k_xor_ipad = bytearray(), bytearray()\n",
    "    if len(key) < blocksize:\n",
    "        key = zero_byte.to_bytes(blocksize-len(key), order) + key\n",
    "    for i in range(blocksize):\n",
    "        k_xor_opad.append(key[i] ^ 0x5c)\n",
    "        k_xor_ipad.append(key[i] ^ 0x36)\n",
    "    return sha256(k_xor_opad + sha256(k_xor_ipad + data).digest()).digest()\n",
    "\n",
    "def extract_first_5_bits_from_key(key, lower_bound, upper_bound):\n",
    "    return int('{:08b}'.format(key[0])[lower_bound:upper_bound], 2)"
   ]
  },
  {
   "cell_type": "code",
   "execution_count": 6,
   "metadata": {},
   "outputs": [],
   "source": [
    "order = 'big' # big endian\n",
    "blocksize = 64\n",
    "zero_byte = 0\n",
    "hmac_size =  32\n",
    "lower_bound, upper_bound = 3, 8"
   ]
  },
  {
   "cell_type": "code",
   "execution_count": 60,
   "metadata": {},
   "outputs": [],
   "source": [
    "def F(password, salt, number_of_iterations, i):\n",
    "    \"\"\"\n",
    "    в result_of_xor последовательно накапливается xor вычисленных u\n",
    "    в u_prev последнее вычисленное u\n",
    "    \"\"\"\n",
    "    result_of_xor = u_prev = hmac_sha256(password, salt + int_to_bytes(i))\n",
    "    for _ in range(number_of_iterations - 1):\n",
    "        u_prev = hmac_sha256(password, u_prev)\n",
    "        new_result_of_xor = bytearray()  \n",
    "        for i in range(hmac_size):\n",
    "            new_result_of_xor.append(result_of_xor[i] ^ u_prev[i])\n",
    "        result_of_xor = new_result_of_xor\n",
    "    return result_of_xor\n",
    "\n",
    "def generate_pbkf2_key(password, salt, number_of_iterations, key_length):\n",
    "    k = bytes()\n",
    "    for i in range(1, (key_length // hmac_size) + 1):\n",
    "        Ti = F(password, salt, number_of_iterations, i)\n",
    "        k += Ti\n",
    "    return k"
   ]
  },
  {
   "cell_type": "code",
   "execution_count": 67,
   "metadata": {},
   "outputs": [],
   "source": [
    "path_to_passwords_json = \"passwords.json\"\n",
    "with open(path_to_passwords_json, 'r') as file:\n",
    "    passwords = json.load(file)"
   ]
  },
  {
   "cell_type": "code",
   "execution_count": 69,
   "metadata": {},
   "outputs": [],
   "source": [
    "passwords_bytes = [str_to_bytes(password) for password in passwords]"
   ]
  },
  {
   "cell_type": "code",
   "execution_count": 85,
   "metadata": {},
   "outputs": [],
   "source": [
    "salt = os.urandom(blocksize)\n",
    "number_of_iterations = 1000\n",
    "key_length = 512"
   ]
  },
  {
   "cell_type": "markdown",
   "metadata": {},
   "source": [
    "Получение ключей длины 512 байт для каждого из пароля в файле:"
   ]
  },
  {
   "cell_type": "code",
   "execution_count": 86,
   "metadata": {},
   "outputs": [
    {
     "name": "stdout",
     "output_type": "stream",
     "text": [
      "CPU times: user 11min 22s, sys: 2.87 s, total: 11min 24s\n",
      "Wall time: 11min 37s\n"
     ]
    }
   ],
   "source": [
    "%%time\n",
    "secure_keys = [generate_pbkf2_key(password, salt, number_of_iterations, key_length) for password in passwords_bytes]"
   ]
  },
  {
   "cell_type": "code",
   "execution_count": 92,
   "metadata": {},
   "outputs": [],
   "source": [
    "first_bits_of_secure_keys = [extract_first_5_bits_from_key(key, lower_bound, upper_bound) \n",
    "                           for key in secure_keys]"
   ]
  },
  {
   "cell_type": "code",
   "execution_count": 99,
   "metadata": {},
   "outputs": [
    {
     "data": {
      "image/png": "[encoded data removed]",
      "text/plain": [
       "<Figure size 720x360 with 1 Axes>"
      ]
     },
     "metadata": {},
     "output_type": "display_data"
    }
   ],
   "source": [
    "plt.figure(figsize=(10,5))\n",
    "plt.title('Histogram of first 5 bits of secure keys') \n",
    "plt.hist(first_bits_of_secure_keys, bins=10, color='tan')\n",
    "plt.savefig('hists/5_bits_secure_keys')"
   ]
  },
  {
   "cell_type": "markdown",
   "metadata": {},
   "source": [
    "Полученное распределение похоже на равномерное."
   ]
  }
 ],
 "metadata": {
  "kernelspec": {
   "display_name": "Python 3",
   "language": "python",
   "name": "python3"
  },
  "language_info": {
   "codemirror_mode": {
    "name": "ipython",
    "version": 3
   },
   "file_extension": ".py",
   "mimetype": "text/x-python",
   "name": "python",
   "nbconvert_exporter": "python",
   "pygments_lexer": "ipython3",
   "version": "3.6.5"
  }
 },
 "nbformat": 4,
 "nbformat_minor": 2
}
