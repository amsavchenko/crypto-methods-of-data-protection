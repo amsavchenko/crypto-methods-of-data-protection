{
 "cells": [
  {
   "cell_type": "code",
   "execution_count": 185,
   "metadata": {},
   "outputs": [],
   "source": [
    "from hashlib import sha256\n",
    "import os"
   ]
  },
  {
   "cell_type": "code",
   "execution_count": 186,
   "metadata": {},
   "outputs": [],
   "source": [
    "import matplotlib.pyplot as plt\n",
    "% matplotlib inline"
   ]
  },
  {
   "cell_type": "code",
   "execution_count": 187,
   "metadata": {},
   "outputs": [],
   "source": [
    "import pickle"
   ]
  },
  {
   "cell_type": "code",
   "execution_count": 188,
   "metadata": {},
   "outputs": [],
   "source": [
    "order = 'big' # big endian\n",
    "size = 32\n",
    "\n",
    "def str_to_bytes(string):\n",
    "    return string.encode('utf-8')\n",
    "\n",
    "def int_to_bytes(x):\n",
    "    return x.to_bytes(blocksize, order)\n",
    "\n",
    "def bytes_to_int(x_bytes):\n",
    "    return int.from_bytes(x_bytes, order)"
   ]
  },
  {
   "cell_type": "code",
   "execution_count": 6,
   "metadata": {},
   "outputs": [],
   "source": [
    "sha15_len = 15\n",
    "sha16_len = 16\n",
    "sha17_len = 17\n",
    "sha18_len = 18\n",
    "sha19_len = 19\n",
    "sha20_len = 20\n",
    "\n",
    "hexdigest_base = 16\n",
    "start_idx_of_bin_num = 2"
   ]
  },
  {
   "cell_type": "markdown",
   "metadata": {},
   "source": [
    "Не очень красивые функции, потому что сложно добиться представления в байтах "
   ]
  },
  {
   "cell_type": "code",
   "execution_count": 7,
   "metadata": {},
   "outputs": [],
   "source": [
    "def sha15(data):\n",
    "    return str_to_bytes(format(int(sha256(data).hexdigest(), hexdigest_base), '0256b')[:sha15_len])\n",
    "\n",
    "def sha16(data):\n",
    "    return str_to_bytes(format(int(sha256(data).hexdigest(), hexdigest_base), '0256b')[:sha16_len])\n",
    "\n",
    "def sha17(data):\n",
    "    return str_to_bytes(format(int(sha256(data).hexdigest(), hexdigest_base), '0256b')[:sha17_len])\n",
    "\n",
    "def sha18(data):\n",
    "    return str_to_bytes(format(int(sha256(data).hexdigest(), hexdigest_base), '0256b')[:sha18_len])\n",
    "\n",
    "def sha19(data):\n",
    "    return str_to_bytes(format(int(sha256(data).hexdigest(), hexdigest_base), '0256b')[:sha19_len])\n",
    "\n",
    "def sha20(data):\n",
    "    return str_to_bytes(format(int(sha256(data).hexdigest(), hexdigest_base), '0256b')[:sha20_len])"
   ]
  },
  {
   "cell_type": "code",
   "execution_count": 189,
   "metadata": {},
   "outputs": [],
   "source": [
    "byte_size = 8\n",
    "int_to_get_first_bits = {\n",
    "    0: 255,\n",
    "    1: 128,\n",
    "    2: 192,\n",
    "    3: 224,\n",
    "    4: 240,\n",
    "    5: 248,\n",
    "    6: 252,\n",
    "    7: 254\n",
    "}\n",
    "\n",
    "\n",
    "def shaXX(data, x):\n",
    "    bytes_amount = ceil(x / byte_size)\n",
    "    sha256_digest = sha256(data).digest()[:bytes_amount]\n",
    "    result = b''\n",
    "    for i in range(bytes_amount - 1):\n",
    "        result += sha256_digest[i].to_bytes(1, 'big')\n",
    "    last_byte = sha256_digest[bytes_amount - 1]\n",
    "    last_byte &= int_to_get_first_bits[x % byte_size]\n",
    "    result += last_byte.to_bytes(1, 'big')\n",
    "    return result\n",
    "\n",
    "\n",
    "def sha15(data):\n",
    "    return shaXX(data, 15)\n",
    "\n",
    "\n",
    "def sha16(data):\n",
    "    return shaXX(data, 16)\n",
    "\n",
    "\n",
    "def sha17(data):\n",
    "    return shaXX(data, 17)\n",
    "\n",
    "\n",
    "def sha18(data):\n",
    "    return shaXX(data, 18)\n",
    "\n",
    "\n",
    "def sha19(data):\n",
    "    return shaXX(data, 19)\n",
    "\n",
    "\n",
    "def sha20(data):\n",
    "    return shaXX(data, 20)"
   ]
  },
  {
   "cell_type": "markdown",
   "metadata": {},
   "source": [
    "# Атака на основе парадокса дня рождений"
   ]
  },
  {
   "cell_type": "markdown",
   "metadata": {},
   "source": [
    "### Нахождение коллизий"
   ]
  },
  {
   "cell_type": "code",
   "execution_count": 190,
   "metadata": {},
   "outputs": [],
   "source": [
    "def generate_birthday_problem_collision(hash_function):\n",
    "    S = {}\n",
    "    while(True):\n",
    "        x = os.urandom(32)\n",
    "        h_x = hash_function(x)\n",
    "        y = S.get(h_x)\n",
    "        if y is None:\n",
    "            S[h_x] = x\n",
    "        elif x != y:\n",
    "            return {'x': x, \n",
    "                    'y': y, \n",
    "                    'amount': len(S)}"
   ]
  },
  {
   "cell_type": "markdown",
   "metadata": {},
   "source": [
    "Коллизии для хэш-функций `shaXX`, XX={15,...,20}"
   ]
  },
  {
   "cell_type": "code",
   "execution_count": 191,
   "metadata": {},
   "outputs": [
    {
     "name": "stdout",
     "output_type": "stream",
     "text": [
      "x = 8a4ce695593778241ffd2cfc04f33040d4edfe768a473c4c295d4f6bb718f167\n",
      "y = 4127b4c553b84a75446e96412ba5411ce0bac52b000d814a6b70a5246ab47c71\n"
     ]
    }
   ],
   "source": [
    "collision_sha15 = generate_birthday_problem_collision(sha15)\n",
    "print('x =', collision_sha15['x'].hex())\n",
    "print('y =', collision_sha15['y'].hex())\n",
    "assert(sha15(collision_sha15['x']) == sha15(collision_sha15['y']))"
   ]
  },
  {
   "cell_type": "code",
   "execution_count": 192,
   "metadata": {},
   "outputs": [
    {
     "name": "stdout",
     "output_type": "stream",
     "text": [
      "x = 0b1b234a095b44fc065c80bc6f501e664de15628a15be599c0662774b60acfef\n",
      "y = ffba097bc707d8c1486426792638d05247e70732c6142b47f5030c6a9c0d226e\n"
     ]
    }
   ],
   "source": [
    "collision_sha16 = generate_birthday_problem_collision(sha16)\n",
    "print('x =', collision_sha16['x'].hex())\n",
    "print('y =', collision_sha16['y'].hex())\n",
    "assert(sha16(collision_sha16['x']) == sha16(collision_sha16['y']))"
   ]
  },
  {
   "cell_type": "code",
   "execution_count": 193,
   "metadata": {},
   "outputs": [
    {
     "name": "stdout",
     "output_type": "stream",
     "text": [
      "x = 29647f8d3415aacc6348e102833308c08e40b1e317db22a2c8ba0a88120a0821\n",
      "y = 9b13a2cc1cf0ba46a1a5ad0696be89a8a8b502e747101c22db12339557e2dc85\n"
     ]
    }
   ],
   "source": [
    "collision_sha17 = generate_birthday_problem_collision(sha17)\n",
    "print('x =', collision_sha17['x'].hex())\n",
    "print('y =', collision_sha17['y'].hex())\n",
    "assert(sha17(collision_sha17['x']) == sha17(collision_sha17['y']))"
   ]
  },
  {
   "cell_type": "code",
   "execution_count": 194,
   "metadata": {},
   "outputs": [
    {
     "name": "stdout",
     "output_type": "stream",
     "text": [
      "x = d857e3d875c81574c99510042ea6d5d497dfae8e44bb3dea551568b380e2edb8\n",
      "y = 3ce5c29fca1078832262b86a6e28f7d09fd3c10f3474a1046856db06eb074eac\n"
     ]
    }
   ],
   "source": [
    "collision_sha18 = generate_birthday_problem_collision(sha18)\n",
    "print('x =', collision_sha18['x'].hex())\n",
    "print('y =', collision_sha18['y'].hex())\n",
    "assert(sha18(collision_sha18['x']) == sha18(collision_sha18['y']))"
   ]
  },
  {
   "cell_type": "code",
   "execution_count": 195,
   "metadata": {},
   "outputs": [
    {
     "name": "stdout",
     "output_type": "stream",
     "text": [
      "x = 50c04c2d60c70173d17b15af58f9d145cd3d8fa17558371ac9dad5663aed8aa6\n",
      "y = b3e5db2503149ca624106c4384427f595a3b2fb33fca2dd465e51daf667ed121\n"
     ]
    }
   ],
   "source": [
    "collision_sha19 = generate_birthday_problem_collision(sha19)\n",
    "print('x =', collision_sha19['x'].hex())\n",
    "print('y =', collision_sha19['y'].hex())\n",
    "assert(sha19(collision_sha19['x']) == sha19(collision_sha19['y']))"
   ]
  },
  {
   "cell_type": "code",
   "execution_count": 196,
   "metadata": {},
   "outputs": [
    {
     "name": "stdout",
     "output_type": "stream",
     "text": [
      "x = cb0e9d58a542f1ae6c0a13ee0b3ad03d98da60c6bfaae7f39ecc3c220874d7b8\n",
      "y = f086f00452132c58a7ab9b8e8642b4e5d5ed07179d54fbe9b62fbfb2fa3619cf\n"
     ]
    }
   ],
   "source": [
    "collision_sha20 = generate_birthday_problem_collision(sha20)\n",
    "print('x =', collision_sha20['x'].hex())\n",
    "print('y =', collision_sha20['y'].hex())\n",
    "assert(sha20(collision_sha20['x']) == sha20(collision_sha20['y']))"
   ]
  },
  {
   "cell_type": "markdown",
   "metadata": {},
   "source": [
    "### Оценка метода"
   ]
  },
  {
   "cell_type": "code",
   "execution_count": 197,
   "metadata": {},
   "outputs": [],
   "source": [
    "from datetime import datetime"
   ]
  },
  {
   "cell_type": "code",
   "execution_count": 198,
   "metadata": {},
   "outputs": [],
   "source": [
    "collisions_amount = 100"
   ]
  },
  {
   "cell_type": "code",
   "execution_count": 199,
   "metadata": {},
   "outputs": [],
   "source": [
    "def measuring_and_write_to_file(attack_function, hash_function, collisions_amount, filename):\n",
    "    start_time = datetime.now()\n",
    "    amount_stored_hashs = 0\n",
    "    collisions = []\n",
    "    while (collisions_amount > 0):\n",
    "        collision = attack_function(hash_function)\n",
    "        x, y = collision['x'].hex(), collision['y'].hex()\n",
    "        collisions.append('[%s, %s]\\n' % (str(x), str(y)))\n",
    "        amount_stored_hashs += collision['amount']\n",
    "        collisions_amount -= 1\n",
    "    execution_time = datetime.now() - start_time\n",
    "#     with open(filename, 'w') as file:\n",
    "#         for col in collisions:\n",
    "#             file.write(col)\n",
    "    return (execution_time.total_seconds(), amount_stored_hashs)"
   ]
  },
  {
   "cell_type": "code",
   "execution_count": 200,
   "metadata": {},
   "outputs": [],
   "source": [
    "results_birthday_sha15 = measuring_and_write_to_file(generate_birthday_problem_collision, sha15, collisions_amount, 'bd_collisions/sha15.txt')\n",
    "results_birthday_sha16 = measuring_and_write_to_file(generate_birthday_problem_collision, sha16, collisions_amount, 'bd_collisions/sha16.txt')\n",
    "results_birthday_sha17 = measuring_and_write_to_file(generate_birthday_problem_collision, sha17, collisions_amount, 'bd_collisions/sha17.txt')\n",
    "results_birthday_sha18 = measuring_and_write_to_file(generate_birthday_problem_collision, sha18, collisions_amount, 'bd_collisions/sha18.txt')\n",
    "results_birthday_sha19 = measuring_and_write_to_file(generate_birthday_problem_collision, sha19, collisions_amount, 'bd_collisions/sha19.txt')\n",
    "results_birthday_sha20 = measuring_and_write_to_file(generate_birthday_problem_collision, sha20, collisions_amount, 'bd_collisions/sha20.txt')"
   ]
  },
  {
   "cell_type": "code",
   "execution_count": 201,
   "metadata": {},
   "outputs": [],
   "source": [
    "results_birthday = [results_birthday_sha15, results_birthday_sha16, results_birthday_sha17, results_birthday_sha18, \n",
    "                   results_birthday_sha19, results_birthday_sha20]"
   ]
  },
  {
   "cell_type": "code",
   "execution_count": 202,
   "metadata": {},
   "outputs": [],
   "source": [
    "execution_time = [result[0] / collisions_amount for result in results_birthday]"
   ]
  },
  {
   "cell_type": "code",
   "execution_count": 203,
   "metadata": {},
   "outputs": [],
   "source": [
    "sha_lens = [sha15_len, sha16_len, sha17_len, sha18_len, sha19_len, sha20_len]\n",
    "zip_amount_and_size =  zip([result[1] for result in results_birthday], sha_lens)\n",
    "\n",
    "# умножаются друг на друга соответствующие значения кол-ва хранимых хэшей и длина этих хэшей в байтах\n",
    "used_storage = [(amount * size) / collisions_amount for amount, size in zip_amount_and_size]"
   ]
  },
  {
   "cell_type": "code",
   "execution_count": 204,
   "metadata": {},
   "outputs": [
    {
     "data": {
      "image/png": "[encoded data removed]",
      "text/plain": [
       "<Figure size 576x360 with 1 Axes>"
      ]
     },
     "metadata": {},
     "output_type": "display_data"
    }
   ],
   "source": [
    "plt.figure(figsize=(8, 5))\n",
    "plt.plot(sha_lens, execution_time, 'go', ms=10)\n",
    "plt.title('Атака на основе парадокса дня рождений')\n",
    "plt.xlabel('Размер выхода хэш-функции')\n",
    "plt.ylabel('Время вычисления')\n",
    "\n",
    "plt.savefig('plots/birthday_time_size_plot')"
   ]
  },
  {
   "cell_type": "code",
   "execution_count": 205,
   "metadata": {},
   "outputs": [
    {
     "data": {
      "image/png": "[encoded data removed]",
      "text/plain": [
       "<Figure size 576x360 with 1 Axes>"
      ]
     },
     "metadata": {},
     "output_type": "display_data"
    }
   ],
   "source": [
    "plt.figure(figsize=(8, 5))\n",
    "plt.plot(sha_lens, used_storage, 'ro', ms=10)\n",
    "plt.title('Атака на основе парадокса дня рождений')\n",
    "plt.xlabel('Размер выхода хэш-функции')\n",
    "plt.ylabel('Используемая память')\n",
    "\n",
    "plt.savefig('plots/birthday_storage_size_plot')"
   ]
  },
  {
   "cell_type": "markdown",
   "metadata": {},
   "source": [
    "# Атака на основе Ро-метода Полларда"
   ]
  },
  {
   "cell_type": "markdown",
   "metadata": {},
   "source": [
    "### Нахождение коллизий"
   ]
  },
  {
   "cell_type": "markdown",
   "metadata": {},
   "source": [
    "Нахождение коллизий происходит в файле `pollard.py`"
   ]
  },
  {
   "cell_type": "code",
   "execution_count": 178,
   "metadata": {},
   "outputs": [],
   "source": [
    "with open('pollard_collisions/results_sha15.pickle', 'rb') as file1:\n",
    "    results_pollard_sha15 = pickle.load(file1)\n",
    "    \n",
    "with open('pollard_collisions/results_sha16.pickle', 'rb') as file2:\n",
    "    results_pollard_sha16 = pickle.load(file2)\n",
    "    \n",
    "with open('pollard_collisions/results_sha17.pickle', 'rb') as file:\n",
    "    results_pollard_sha17 = pickle.load(file)\n",
    "    \n",
    "with open('pollard_collisions/results_sha18.pickle', 'rb') as file:\n",
    "    results_pollard_sha18 = pickle.load(file)\n",
    "    \n",
    "with open('pollard_collisions/results_sha19.pickle', 'rb') as file:\n",
    "    results_pollard_sha19 = pickle.load(file)\n",
    "    \n",
    "with open('pollard_collisions/results_sha20.pickle', 'rb') as file:\n",
    "    results_pollard_sha20 = pickle.load(file)"
   ]
  },
  {
   "cell_type": "code",
   "execution_count": 206,
   "metadata": {},
   "outputs": [],
   "source": [
    "results_pollard = [results_pollard_sha15, results_pollard_sha16, results_pollard_sha17, results_pollard_sha18,\n",
    "                       results_pollard_sha19, results_pollard_sha20]\n",
    "\n",
    "execution_time = [result[0] / collisions_amount for result in results_pollard]\n",
    "sha_lens = [sha15_len, sha16_len, sha17_len, sha18_len, sha19_len, sha20_len]\n",
    "zip_amount_and_size =  zip([result[1] for result in results_pollard], sha_lens)\n",
    "used_storage = [(amount * size) / collisions_amount for amount, size in zip_amount_and_size]"
   ]
  },
  {
   "cell_type": "code",
   "execution_count": 207,
   "metadata": {},
   "outputs": [
    {
     "data": {
      "text/plain": [
       "[1462.05, 2537.44, 8165.44, 8754.66, 9626.73, 15719.6]"
      ]
     },
     "execution_count": 207,
     "metadata": {},
     "output_type": "execute_result"
    }
   ],
   "source": [
    "used_storage"
   ]
  },
  {
   "cell_type": "code",
   "execution_count": 182,
   "metadata": {},
   "outputs": [
    {
     "data": {
      "image/png": "[encoded data removed]",
      "text/plain": [
       "<Figure size 576x360 with 1 Axes>"
      ]
     },
     "metadata": {},
     "output_type": "display_data"
    }
   ],
   "source": [
    "plt.figure(figsize=(8, 5))\n",
    "plt.plot(sha_lens, execution_time, 'go', ms=10)\n",
    "plt.title('Атака на основе Ро-метода Полларда')\n",
    "plt.xlabel('Размер выхода хэш-функции')\n",
    "plt.ylabel('Время вычисления')\n",
    "\n",
    "plt.savefig('plots/pollard_time_size_plot')"
   ]
  },
  {
   "cell_type": "code",
   "execution_count": 208,
   "metadata": {},
   "outputs": [
    {
     "data": {
      "image/png": "[encoded data removed]",
      "text/plain": [
       "<Figure size 576x360 with 1 Axes>"
      ]
     },
     "metadata": {},
     "output_type": "display_data"
    }
   ],
   "source": [
    "plt.figure(figsize=(8, 5))\n",
    "plt.plot(sha_lens, used_storage, 'ro', ms=10)\n",
    "plt.title('Атака на основе Ро-метода Полларда')\n",
    "plt.xlabel('Размер выхода хэш-функции')\n",
    "plt.ylabel('Используемая память')\n",
    "\n",
    "plt.savefig('plots/pollard_storage_size_plot')"
   ]
  },
  {
   "cell_type": "code",
   "execution_count": null,
   "metadata": {},
   "outputs": [],
   "source": []
  }
 ],
 "metadata": {
  "kernelspec": {
   "display_name": "Python 3",
   "language": "python",
   "name": "python3"
  }
 },
 "nbformat": 4,
 "nbformat_minor": 2
}
