{
 "cells": [
  {
   "cell_type": "code",
   "execution_count": 1,
   "metadata": {},
   "outputs": [],
   "source": [
    "from Crypto.Cipher import AES"
   ]
  },
  {
   "cell_type": "code",
   "execution_count": 2,
   "metadata": {},
   "outputs": [],
   "source": [
    "import os"
   ]
  },
  {
   "cell_type": "code",
   "execution_count": 3,
   "metadata": {},
   "outputs": [],
   "source": [
    "from math import ceil, floor"
   ]
  },
  {
   "cell_type": "markdown",
   "metadata": {},
   "source": [
    "## Задание 1"
   ]
  },
  {
   "cell_type": "code",
   "execution_count": 4,
   "metadata": {},
   "outputs": [],
   "source": [
    "aes_block_size = 16\n",
    "aes_key_allowed_lenghts = (16, 24, 32)"
   ]
  },
  {
   "cell_type": "code",
   "execution_count": 5,
   "metadata": {},
   "outputs": [],
   "source": [
    "def aes_block_encrypt(key, message, is_final_block=False, padding=0):\n",
    "    if type(key) is not bytes:\n",
    "        raise TypeError(\"Key's type should be bytes.\")\n",
    "    if type(message) is not bytes:\n",
    "        raise TypeError(\"Message's type should be bytes.\")\n",
    "    if len(key) not in aes_key_allowed_lenghts:\n",
    "        raise ValueError(\"AES key must be either 16, 24, or 32 bytes long\")\n",
    "    if is_final_block:\n",
    "        message += padding\n",
    "    if len(message) != aes_block_size:\n",
    "        raise ValueError(\"Message's length should be equal to AES block size = 16. Use padding.\")\n",
    "    \n",
    "    cipher = AES.new(key, AES.MODE_ECB)\n",
    "    ciphertext = cipher.encrypt(message)\n",
    "    return ciphertext\n",
    "    \n",
    "    \n",
    "def aes_block_decrypt(key, ciphertext):\n",
    "    if type(key) is not bytes:\n",
    "        raise TypeError(\"Key's type should be bytes.\")\n",
    "    if type(ciphertext) is not bytes:\n",
    "        raise TypeError(\"Ciphertext's type should be bytes.\")\n",
    "    if len(key) not in aes_key_allowed_lenghts:\n",
    "        raise ValueError(\"AES key must be either 16, 24, or 32 bytes long\")\n",
    "    if len(ciphertext) != aes_block_size:\n",
    "        raise ValueError(\"Ciphertext's length should be equal to AES block size = 16.\")\n",
    "    \n",
    "    cipher = AES.new(key, AES.MODE_ECB)\n",
    "    message = cipher.decrypt(ciphertext)\n",
    "    return message"
   ]
  },
  {
   "cell_type": "markdown",
   "metadata": {},
   "source": [
    "## Задание 2"
   ]
  },
  {
   "cell_type": "code",
   "execution_count": 6,
   "metadata": {},
   "outputs": [],
   "source": [
    "def xor_two_bytes(x, y):\n",
    "    if len(x) != len(y):\n",
    "        raise ValueError(\"Lengths of xored values aren't equal\")\n",
    "    result = bytearray()\n",
    "    for i in range(len(x)):\n",
    "        result.append(x[i] ^ y[i])\n",
    "    return bytes(result)"
   ]
  },
  {
   "cell_type": "code",
   "execution_count": 7,
   "metadata": {},
   "outputs": [],
   "source": [
    "def pkcs7_padding(data):\n",
    "    if len(data) % aes_block_size == 0:\n",
    "        return b''\n",
    "    padding_len = aes_block_size - len(data) % aes_block_size\n",
    "    return (chr(padding_len) * padding_len).encode()\n",
    "\n",
    "\n",
    "def ecb(key, data):\n",
    "    blocks_amount = ceil(len(data) / aes_block_size)\n",
    "    ciphertext = b''\n",
    "    data += pkcs7_padding(data)\n",
    "    for i in range(blocks_amount):\n",
    "        ciphertext += aes_block_encrypt(key, data[aes_block_size*i:aes_block_size*(i+1)])\n",
    "    return ciphertext\n",
    "\n",
    "\n",
    "def cbc(key, data, iv):\n",
    "    blocks_amount = ceil(len(data) / aes_block_size)\n",
    "    ciphertext = b''\n",
    "    data += pkcs7_padding(data)\n",
    "    for i in range(blocks_amount):\n",
    "        plaintext = data[aes_block_size*i:aes_block_size*(i+1)]\n",
    "        xor_result = xor_two_bytes(plaintext, iv)\n",
    "        iv = aes_block_encrypt(key, xor_result)\n",
    "        ciphertext += iv\n",
    "    return ciphertext\n",
    "\n",
    "\n",
    "def cfb(key, data, iv):\n",
    "    blocks_amount = floor(len(data) / aes_block_size)\n",
    "    ciphertext = b''\n",
    "    for i in range(blocks_amount):\n",
    "        aes_result = aes_block_encrypt(key, iv)\n",
    "        plaintext = data[aes_block_size*i:aes_block_size*(i+1)]\n",
    "        iv = xor_two_bytes(aes_result, plaintext)\n",
    "        ciphertext += iv\n",
    "    last_aes_result = aes_block_encrypt(key, iv)\n",
    "    last_plaintext = data[aes_block_size*(blocks_amount):]\n",
    "    ciphertext += xor_two_bytes(last_plaintext, last_aes_result[:len(last_plaintext)])\n",
    "    return ciphertext\n",
    "\n",
    "\n",
    "def ofb(key, data, iv):\n",
    "    blocks_amount = floor(len(data) / aes_block_size)\n",
    "    ciphertext = b''\n",
    "    for i in range(blocks_amount):\n",
    "        plaintext = data[aes_block_size*i:aes_block_size*(i+1)]\n",
    "        iv = aes_block_encrypt(key, iv)\n",
    "        ciphertext += xor_two_bytes(iv, plaintext)\n",
    "    last_plaintext = data[aes_block_size*(blocks_amount):]\n",
    "    last_aes_result = aes_block_encrypt(key, iv)\n",
    "    ciphertext += xor_two_bytes(last_plaintext, last_aes_result[:len(last_plaintext)])\n",
    "    return ciphertext\n",
    "\n",
    "\n",
    "def ctr(key, data, iv): # iv = nonce + counter\n",
    "    blocks_amount = ceil(len(data) / aes_block_size)\n",
    "    ciphertext = b''\n",
    "    data += pkcs7_padding(data)\n",
    "    for i in range(blocks_amount):\n",
    "        aes_result = aes_block_encrypt(key, iv)\n",
    "        plaintext = data[aes_block_size*i:aes_block_size*(i+1)]\n",
    "        ciphertext += xor_two_bytes(aes_result, plaintext)\n",
    "        iv = bytearray(iv)\n",
    "        iv[-1] += 1\n",
    "        iv = bytes(iv)\n",
    "    return ciphertext\n",
    "        \n",
    "\n",
    "def aes_encrypt(key, data, mode, iv=b''):\n",
    "    if mode == 'ECB':\n",
    "        return ecb(key, data)\n",
    "    if iv == b'':\n",
    "        if mode != 'CTR':\n",
    "            iv = os.urandom(aes_block_size)\n",
    "        else:\n",
    "            counter = 1\n",
    "            iv = os.urandom(aes_block_size // 2) + counter.to_bytes(aes_block_size // 2, 'big')\n",
    "            return iv + ctr(key, data, iv)\n",
    "    if mode == 'CBC':\n",
    "        return iv + cbc(key, data, iv)\n",
    "    if mode == 'CFB':\n",
    "        return iv + cfb(key, data, iv)\n",
    "    if mode == 'OFB':\n",
    "        return iv + ofb(key, data, iv)\n",
    "    if mode == 'CTR':\n",
    "        return iv + ctr(key, data, iv)"
   ]
  },
  {
   "cell_type": "markdown",
   "metadata": {},
   "source": [
    "## 2.5 - валидация"
   ]
  },
  {
   "cell_type": "code",
   "execution_count": 8,
   "metadata": {},
   "outputs": [],
   "source": [
    "key = os.urandom(16)\n",
    "msg1 = os.urandom(16)\n",
    "msg2 = os.urandom(40)"
   ]
  },
  {
   "cell_type": "code",
   "execution_count": 9,
   "metadata": {},
   "outputs": [],
   "source": [
    "# ECB\n",
    "\n",
    "my_ciphertext_ecb1 = aes_encrypt(key, msg1, 'ECB')\n",
    "my_ciphertext_ecb2 = aes_encrypt(key, msg2, 'ECB')\n",
    "\n",
    "ecb_cipher = AES.new(key, AES.MODE_ECB)\n",
    "builtin_ciphertext_ecb1 = ecb_cipher.encrypt(msg1 + pkcs7_padding(msg1))\n",
    "builtin_ciphertext_ecb2 = ecb_cipher.encrypt(msg2 + pkcs7_padding(msg2))\n",
    "\n",
    "assert(my_ciphertext_ecb1 == builtin_ciphertext_ecb1)\n",
    "assert(my_ciphertext_ecb2 == builtin_ciphertext_ecb2)"
   ]
  },
  {
   "cell_type": "code",
   "execution_count": 10,
   "metadata": {},
   "outputs": [],
   "source": [
    "# CBC\n",
    "iv = os.urandom(aes_block_size)\n",
    "\n",
    "my_ciphertext_cbc1 = aes_encrypt(key, msg1, 'CBC', iv)\n",
    "my_ciphertext_cbc2 = aes_encrypt(key, msg2, 'CBC', iv)\n",
    "\n",
    "cbc_cipher = AES.new(key=key, mode=AES.MODE_CBC, IV=iv)\n",
    "builtin_ciphertext_cbc1 = cbc_cipher.encrypt(msg1 + pkcs7_padding(msg1))\n",
    "\n",
    "cbc_cipher2 = AES.new(key=key, mode=AES.MODE_CBC, IV=iv)\n",
    "builtin_ciphertext_cbc2 = cbc_cipher2.encrypt(msg2 + pkcs7_padding(msg2))\n",
    "\n",
    "assert(my_ciphertext_cbc1[aes_block_size:] == builtin_ciphertext_cbc1)\n",
    "assert(my_ciphertext_cbc2[aes_block_size:] == builtin_ciphertext_cbc2)"
   ]
  },
  {
   "cell_type": "code",
   "execution_count": 11,
   "metadata": {},
   "outputs": [],
   "source": [
    "# CFB\n",
    "iv = os.urandom(aes_block_size)\n",
    "\n",
    "my_ciphertext_cfb1 = aes_encrypt(key, msg1, 'CFB', iv)\n",
    "my_ciphertext_cfb2 = aes_encrypt(key, msg2, 'CFB', iv)\n",
    "\n",
    "cfb_cipher = AES.new(key=key, mode=AES.MODE_CFB, IV=iv, segment_size=128)\n",
    "builtin_ciphertext_cfb1 = cfb_cipher.encrypt(msg1)\n",
    "\n",
    "cfb_cipher2 = AES.new(key=key, mode=AES.MODE_CFB, IV=iv, segment_size=128)\n",
    "builtin_ciphertext_cfb2 = cfb_cipher2.encrypt(msg2 + pkcs7_padding(msg2))\n",
    "\n",
    "assert(my_ciphertext_cfb1[aes_block_size:] == builtin_ciphertext_cfb1)\n",
    "assert(my_ciphertext_cfb2[aes_block_size:] == builtin_ciphertext_cfb2[:len(msg2)])"
   ]
  },
  {
   "cell_type": "code",
   "execution_count": 12,
   "metadata": {},
   "outputs": [],
   "source": [
    "#OFB\n",
    "iv = os.urandom(aes_block_size)\n",
    "\n",
    "my_ciphertext_ofb1 = aes_encrypt(key, msg1, 'OFB', iv)\n",
    "my_ciphertext_ofb2 = aes_encrypt(key, msg2, 'OFB', iv)\n",
    "\n",
    "ofb_cipher = AES.new(key=key, mode=AES.MODE_OFB, IV=iv)\n",
    "builtin_ciphertext_ofb1 = ofb_cipher.encrypt(msg1)\n",
    "\n",
    "ofb_cipher2 = AES.new(key=key, mode=AES.MODE_OFB, IV=iv)\n",
    "builtin_ciphertext_ofb2 = ofb_cipher2.encrypt(msg2 + pkcs7_padding(msg2))\n",
    "\n",
    "assert(my_ciphertext_ofb1[aes_block_size:] == builtin_ciphertext_ofb1)\n",
    "assert(my_ciphertext_ofb2[aes_block_size:] == builtin_ciphertext_ofb2[:len(msg2)])"
   ]
  },
  {
   "cell_type": "code",
   "execution_count": 13,
   "metadata": {},
   "outputs": [],
   "source": [
    "#CTR\n",
    "nonce = os.urandom(aes_block_size // 2)\n",
    "counter = 1\n",
    "\n",
    "my_ciphertext_ctr1 = aes_encrypt(key, msg1, 'CTR', nonce + counter.to_bytes(aes_block_size // 2, 'big'))\n",
    "my_ciphertext_ctr2 = aes_encrypt(key, msg2, 'CTR', nonce + counter.to_bytes(aes_block_size // 2, 'big'))\n",
    "\n",
    "ctr_cipher = AES.new(key=key, mode=AES.MODE_CTR, nonce=nonce, initial_value=1)\n",
    "builtin_ciphertext_ctr1 = ctr_cipher.encrypt(msg1 + pkcs7_padding(msg1))\n",
    "\n",
    "ctr_cipher2 = AES.new(key=key, mode=AES.MODE_CTR, nonce=nonce, initial_value=1)\n",
    "builtin_ciphertext_ctr2 = ctr_cipher2.encrypt(msg2 + pkcs7_padding(msg2))\n",
    "\n",
    "assert(my_ciphertext_ctr1[aes_block_size:] == builtin_ciphertext_ctr1)\n",
    "assert(my_ciphertext_ctr2[aes_block_size:] == builtin_ciphertext_ctr2)"
   ]
  },
  {
   "cell_type": "markdown",
   "metadata": {},
   "source": [
    "## Задание 3"
   ]
  },
  {
   "cell_type": "code",
   "execution_count": 14,
   "metadata": {},
   "outputs": [],
   "source": [
    "def delete_pkcs7(data):\n",
    "    possible_padding_element = data[-1]\n",
    "    if data[-possible_padding_element:] == chr(data[-1]).encode() * possible_padding_element:\n",
    "        return data[:-possible_padding_element]\n",
    "    return data\n",
    "\n",
    "\n",
    "def ecb_decrypt(key, data):\n",
    "    blocks_amount = ceil(len(data) / aes_block_size)\n",
    "    plaintext = b''\n",
    "    for i in range(blocks_amount):\n",
    "        plaintext += aes_block_decrypt(key, data[aes_block_size*i:aes_block_size*(i+1)])\n",
    "    plaintext = delete_pkcs7(plaintext)\n",
    "    return plaintext\n",
    "\n",
    "\n",
    "def cbc_decrypt(key, ciphertext, iv):\n",
    "    blocks_amount = ceil(len(ciphertext) / aes_block_size)\n",
    "    plaintext = b''\n",
    "    for i in range(blocks_amount):\n",
    "        ciphertext_block = ciphertext[aes_block_size*i:aes_block_size*(i+1)]\n",
    "        aes_decrtypt_result = aes_block_decrypt(key, ciphertext_block)\n",
    "        plaintext += xor_two_bytes(aes_decrtypt_result, iv)\n",
    "        iv = ciphertext_block\n",
    "    plaintext = delete_pkcs7(plaintext)\n",
    "    return plaintext\n",
    "\n",
    "\n",
    "def cfb_decrypt(key, ciphertext, iv):\n",
    "    blocks_amount = floor(len(ciphertext) / aes_block_size)\n",
    "    plaintext = b''\n",
    "    for i in range(blocks_amount):\n",
    "        aes_result = aes_block_encrypt(key, iv)\n",
    "        iv = ciphertext[aes_block_size*i:aes_block_size*(i+1)]\n",
    "        plaintext += xor_two_bytes(iv, aes_result)\n",
    "    last_aes_result = aes_block_encrypt(key, iv)\n",
    "    last_ciphertext_block = ciphertext[aes_block_size*(blocks_amount):]\n",
    "    plaintext += xor_two_bytes(last_ciphertext_block, last_aes_result[:len(last_ciphertext_block)])\n",
    "    return plaintext\n",
    "\n",
    "\n",
    "def ctr_decrypt(key, data, iv): # iv = nonce + counter\n",
    "    blocks_amount = ceil(len(data) / aes_block_size)\n",
    "    plaintext = b''\n",
    "    for i in range(blocks_amount):\n",
    "        aes_result = aes_block_encrypt(key, iv)\n",
    "        ciphertext_block = data[aes_block_size*i:aes_block_size*(i+1)]\n",
    "        plaintext += xor_two_bytes(aes_result[:len(ciphertext_block)], ciphertext_block)\n",
    "        iv = bytearray(iv)\n",
    "        iv[-1] += 1\n",
    "        iv = bytes(iv)\n",
    "    plaintext = delete_pkcs7(plaintext)\n",
    "    return plaintext\n",
    "\n",
    "\n",
    "def decrypt(key, ciphertext, mode):\n",
    "    if mode == 'ECB':\n",
    "        return ecb_decrypt(key, ciphertext)\n",
    "    iv = ciphertext[:aes_block_size]\n",
    "    ciphertext = ciphertext[aes_block_size:]\n",
    "    if mode == 'CBC':\n",
    "        return cbc_decrypt(key, ciphertext, iv)\n",
    "    if mode == 'CFB':\n",
    "        return cfb_decrypt(key, ciphertext, iv)\n",
    "    if mode == 'OFB':\n",
    "        return ofb(key, ciphertext, iv)\n",
    "    if mode == 'CTR':\n",
    "        return ctr_decrypt(key, ciphertext, iv)"
   ]
  },
  {
   "cell_type": "code",
   "execution_count": 15,
   "metadata": {},
   "outputs": [
    {
     "name": "stdout",
     "output_type": "stream",
     "text": [
      "CBC message 1 -  b'Basic CBC mode encryption needs padding.'\n",
      "CBC message 2 -  b'Our implementation uses rand. IV'\n"
     ]
    }
   ],
   "source": [
    "cbc_key = bytes(bytearray.fromhex('140b41b22a29beb4061bda66b6747e14'))\n",
    "cbc_ciphertext_1 = bytes(bytearray.fromhex('4ca00ff4c898d61e1edbf1800618fb2828a226d160dad07883d04e008a7897ee2e4b7465d5290d0c0e6c6822236e1daafb94ffe0c5da05d9476be028ad7c1d81'))\n",
    "cbc_ciphertext_2 = bytes(bytearray.fromhex('5b68629feb8606f9a6667670b75b38a5b4832d0f26e1ab7da33249de7d4afc48e713ac646ace36e872ad5fb8a512428a6e21364b0c374df45503473c5242a253'))\n",
    "\n",
    "print('CBC message 1 - ', decrypt(cbc_key, cbc_ciphertext_1, 'CBC'))\n",
    "print('CBC message 2 - ', decrypt(cbc_key, cbc_ciphertext_2, 'CBC'))"
   ]
  },
  {
   "cell_type": "code",
   "execution_count": 16,
   "metadata": {},
   "outputs": [
    {
     "name": "stdout",
     "output_type": "stream",
     "text": [
      "CTR message 1 -  b'CTR mode lets you build a stream cipher from a block cipher.'\n",
      "CTR message 2 -  b'Always avoid the two time pad!'\n"
     ]
    }
   ],
   "source": [
    "ctr_key = bytes(bytearray.fromhex('36f18357be4dbd77f050515c73fcf9f2'))\n",
    "ctr_ciphertext_1 = bytes(bytearray.fromhex('69dda8455c7dd4254bf353b773304eec0ec7702330098ce7f7520d1cbbb20fc388d1b0adb5054dbd7370849dbf0b88d393f252e764f1f5f7ad97ef79d59ce29f5f51eeca32eabedd9afa9329'))\n",
    "ctr_ciphertext_2 = bytes(bytearray.fromhex('770b80259ec33beb2561358a9f2dc617e46218c0a53cbeca695ae45faa8952aa0e311bde9d4e01726d3184c34451'))\n",
    "\n",
    "print('CTR message 1 - ', decrypt(ctr_key, ctr_ciphertext_1, 'CTR'))\n",
    "print('CTR message 2 - ', decrypt(ctr_key, ctr_ciphertext_2, 'CTR'))"
   ]
  },
  {
   "cell_type": "markdown",
   "metadata": {},
   "source": [
    "## Задание 4"
   ]
  },
  {
   "cell_type": "code",
   "execution_count": 17,
   "metadata": {},
   "outputs": [],
   "source": [
    "my_secure_message = b\"it's-my-secure-message-with-40-bytes-len\""
   ]
  },
  {
   "cell_type": "code",
   "execution_count": 18,
   "metadata": {},
   "outputs": [
    {
     "name": "stdout",
     "output_type": "stream",
     "text": [
      "b'\\xeb4\\xfb\\t\\x97\\xd0\\n\\rB\\x15\\xb0\\xc2\\xde\\xac09\\x1d\\x04\\x98\\x02\\xff\\x8f@\\x0b\\xb4\\x84\\xde*|\\x08\\x1d\\xcd\\x08\\x8cW\\xfa&\\xe6V\\x04\\xa8\\xfc\\xaa\\xa4=G\\xc4U' Len: 48 Bytes\n",
      "\n",
      "b\"it's-my-secure-message-with-40-bytes-len\"\n"
     ]
    }
   ],
   "source": [
    "# ECB\n",
    "ecb_test_encrypt = aes_encrypt(key, my_secure_message, 'ECB')\n",
    "print(ecb_test_encrypt, 'Len: %i Bytes\\n' % len(ecb_test_encrypt))\n",
    "print(decrypt(key, ecb_test_encrypt, 'ECB'))"
   ]
  },
  {
   "cell_type": "code",
   "execution_count": 19,
   "metadata": {},
   "outputs": [
    {
     "name": "stdout",
     "output_type": "stream",
     "text": [
      "b'\\x04t\\xbd\\xf2Q\\x8b\\xbe{p:\\x00\\xe0h$\\x07\\xd4\\x87\\xd6I#\\x82S\\xad\\x9c\\xdc-%t\\n<\\x85\\t;oAr\\x9d\\x9f?\\xea%Q:\\xd5\\x13\\xa5\\x7f VWFK\\xd4\\x1e%\\xc6\\x17p7\\xe3\\xc2\\xf9\\xdd\\x96' Len: 64 Bytes\n",
      "\n",
      "b\"it's-my-secure-message-with-40-bytes-len\"\n"
     ]
    }
   ],
   "source": [
    "# CBC\n",
    "iv_cbc = os.urandom(aes_block_size)\n",
    "cbc_test_encrypt = aes_encrypt(key, my_secure_message, 'CBC')\n",
    "print(cbc_test_encrypt, 'Len: %i Bytes\\n' % len(cbc_test_encrypt))\n",
    "print(decrypt(key, cbc_test_encrypt, 'CBC'))"
   ]
  },
  {
   "cell_type": "code",
   "execution_count": 20,
   "metadata": {},
   "outputs": [
    {
     "name": "stdout",
     "output_type": "stream",
     "text": [
      "b'\\x9c@Jv\\xe6J\\xccF\\rZ\\xf8\\xc4\\xde\\xb1\\xec\\x17*\\xaa\\xafk\\xael <\\xc8\\x96\\x08\\xbe\\xa1\\xc8\\xe3\\x9a\\x1a\\xaa\\xb7\\xe1\\xb4\\x10\\x99\\xc72\\xe7\\x7f.\\x94\\x04mYU\\xb8\\x9e\\x9b{d2\\xf9' Len: 56 Bytes\n",
      "\n",
      "b\"it's-my-secure-message-with-40-bytes-len\"\n"
     ]
    }
   ],
   "source": [
    "# CFB\n",
    "iv_cfb = os.urandom(aes_block_size)\n",
    "cfb_test_encrypt = aes_encrypt(key, my_secure_message, 'CFB')\n",
    "print(cfb_test_encrypt, 'Len: %i Bytes\\n' % len(cfb_test_encrypt))\n",
    "print(decrypt(key, cfb_test_encrypt, 'CFB'))"
   ]
  },
  {
   "cell_type": "code",
   "execution_count": 21,
   "metadata": {},
   "outputs": [
    {
     "name": "stdout",
     "output_type": "stream",
     "text": [
      "b\"\\xe5\\xc5\\xea\\xb7\\xa3\\xd4\\xc1J\\xaa\\xe6)'t\\x00Ro\\x81\\x8fEG\\x1e}\\xbd\\xed\\xda\\xc3\\xae\\x97pc\\x18\\xdf\\xd8\\x93\\xd9\\x13\\x8e\\x11N\\x06!r\\x89,\\xc8\\x05%\\xde\\x1f\\x80\\xe6\\xb1#\\x10\\xc0\\xff\" Len: 56 Bytes\n",
      "\n",
      "b\"it's-my-secure-message-with-40-bytes-len\"\n"
     ]
    }
   ],
   "source": [
    "# OFB\n",
    "iv_ofb = os.urandom(aes_block_size)\n",
    "ofb_test_encrypt = aes_encrypt(key, my_secure_message, 'OFB')\n",
    "print(ofb_test_encrypt, 'Len: %i Bytes\\n' % len(ofb_test_encrypt))\n",
    "print(decrypt(key, ofb_test_encrypt, 'OFB'))"
   ]
  },
  {
   "cell_type": "code",
   "execution_count": 22,
   "metadata": {},
   "outputs": [
    {
     "name": "stdout",
     "output_type": "stream",
     "text": [
      "b'N\\xef\\xd3\\xefD\\xb7\\xdc\\xfa\\x00\\x00\\x00\\x00\\x00\\x00\\x00\\x01\\xd2\\x7f\\x9c@\\xb1\\x18^\\x97C\\x08\\x8f\\xbb\\xd6\\xd5\\xe7\\x80\\xbeW\\x86\\xa3\\xe4p\\x13l(\\xcdEj\\xb4\\x91\\x1b\\xacD\\xde\\x92\\xbd\\xfa\\x9e\\xf94\\xb09\\x02\\xcf\\x95\\xf7|\\x17' Len: 64 Bytes\n",
      "\n",
      "b\"it's-my-secure-message-with-40-bytes-len\"\n"
     ]
    }
   ],
   "source": [
    "# CTR\n",
    "nonce = os.urandom(aes_block_size // 2)\n",
    "counter = 1\n",
    "ctr_test_encrypt = aes_encrypt(key, my_secure_message, 'CTR', nonce + counter.to_bytes(aes_block_size // 2, 'big'))\n",
    "print(ctr_test_encrypt, 'Len: %i Bytes\\n' % len(ctr_test_encrypt))\n",
    "print(decrypt(key, ctr_test_encrypt, 'CTR'))"
   ]
  },
  {
   "cell_type": "code",
   "execution_count": null,
   "metadata": {},
   "outputs": [],
   "source": []
  }
 ],
 "metadata": {
  "kernelspec": {
   "display_name": "Python 3",
   "language": "python",
   "name": "python3"
  },
  "language_info": {
   "codemirror_mode": {
    "name": "ipython",
    "version": 3
   },
   "file_extension": ".py",
   "mimetype": "text/x-python",
   "name": "python",
   "nbconvert_exporter": "python",
   "pygments_lexer": "ipython3",
   "version": "3.6.5"
  }
 },
 "nbformat": 4,
 "nbformat_minor": 2
}
