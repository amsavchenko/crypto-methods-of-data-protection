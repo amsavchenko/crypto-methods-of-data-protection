{
 "cells": [
  {
   "cell_type": "code",
   "execution_count": 61,
   "metadata": {},
   "outputs": [],
   "source": [
    "import os\n",
    "from Crypto.Cipher import AES\n",
    "from math import ceil\n",
    "from hashlib import sha256\n",
    "from tqdm import tqdm\n",
    "from time import time\n",
    "from matplotlib import pyplot as plt\n",
    "% matplotlib inline"
   ]
  },
  {
   "cell_type": "markdown",
   "metadata": {},
   "source": [
    "## Реализация AesBlockEncrypt"
   ]
  },
  {
   "cell_type": "code",
   "execution_count": 2,
   "metadata": {},
   "outputs": [],
   "source": [
    "octet_size = 8\n",
    "bytes_order = 'big'\n",
    "aes_block_size = 16\n",
    "aes_key_allowed_lenghts = (16, 24, 32)"
   ]
  },
  {
   "cell_type": "code",
   "execution_count": 3,
   "metadata": {},
   "outputs": [],
   "source": [
    "def aes_block_encrypt(key, message, is_final_block=False, padding=0):\n",
    "    if type(key) is not bytes:\n",
    "        raise TypeError(\"Key's type should be bytes.\")\n",
    "    if type(message) is not bytes:\n",
    "        raise TypeError(\"Message's type should be bytes.\")\n",
    "    if len(key) not in aes_key_allowed_lenghts:\n",
    "        raise ValueError(\"AES key must be either 16, 24, or 32 bytes long\")\n",
    "    if is_final_block:\n",
    "        message += padding\n",
    "    if len(message) != aes_block_size:\n",
    "        raise ValueError(\"Message's length should be equal to AES block size = 16. Use padding.\")\n",
    "    \n",
    "    cipher = AES.new(key, AES.MODE_ECB)\n",
    "    ciphertext = cipher.encrypt(message)\n",
    "    return ciphertext"
   ]
  },
  {
   "cell_type": "code",
   "execution_count": 67,
   "metadata": {},
   "outputs": [],
   "source": [
    "class AESBlockEnrypt:\n",
    "    def __init__(self, key):\n",
    "        self.cipher = AES.new(key, AES.MODE_ECB)\n",
    "    def block_encrypt(self, message):\n",
    "        return self.cipher.encrypt(message)"
   ]
  },
  {
   "cell_type": "code",
   "execution_count": 4,
   "metadata": {},
   "outputs": [],
   "source": [
    "def xor_two_bytes(x, y):\n",
    "    if len(x) != len(y):\n",
    "        raise ValueError(\"Lengths of xored values aren't equal\")\n",
    "    result = bytearray()\n",
    "    for i in range(len(x)):\n",
    "        result.append(x[i] ^ y[i])\n",
    "    return bytes(result)"
   ]
  },
  {
   "cell_type": "markdown",
   "metadata": {},
   "source": [
    "## Реализация OMAC"
   ]
  },
  {
   "cell_type": "code",
   "execution_count": 65,
   "metadata": {},
   "outputs": [],
   "source": [
    "class OMAC:\n",
    "    def __init__(self, k):\n",
    "        self.octet_size = 8\n",
    "        self.bytes_order = 'big'\n",
    "        self.aes_block_size = 16\n",
    "        self.k0 = k\n",
    "        self.aes = AESBlockEnrypt(self.k0)\n",
    "        \n",
    "        def extract_msb(b):\n",
    "            return int(format(b[0], f'0{self.octet_size}b')[0])\n",
    "        \n",
    "        def left_circular_shift(b, x):\n",
    "            bits_amount = len(b) * self.octet_size\n",
    "            b_int = int.from_bytes(b, self.bytes_order)\n",
    "            shift = (b_int << x) | (b_int >> (bits_amount - x))\n",
    "            shift_str = format(shift, f'0{bits_amount}b')[-bits_amount:]\n",
    "            return bytearray([int(shift_str[i:i+self.octet_size], 2) for i in range(0, len(shift_str), self.octet_size)])\n",
    "        \n",
    "        def make_k1_k2_from_k(k):\n",
    "            # первые 15 октетов нули, в последнем '10000111', что равно 135 \n",
    "            R_16 = bytearray(15) + bytearray([135]) \n",
    "            L = aes_block_encrypt(k, bytes(bytearray(self.aes_block_size)))\n",
    "            if extract_msb(L) == 0:\n",
    "                k1 = left_circular_shift(L, 1)\n",
    "            else:\n",
    "                k1 = xor_two_bytes(left_circular_shift(L, 1), R_16)\n",
    "            if extract_msb(k1) == 0:\n",
    "                k2 = left_circular_shift(k1, 1)\n",
    "            else:\n",
    "                k2 = xor_two_bytes(left_circular_shift(k1, 1), R_16)\n",
    "            return k1, k2\n",
    "            \n",
    "        self.k1, self.k2 = make_k1_k2_from_k(k)\n",
    "        \n",
    "        \n",
    "    def __mac_add_block(self, data_block):\n",
    "        if not self.state:\n",
    "            self.state = data_block\n",
    "        else:\n",
    "            self.state = xor_two_bytes(data_block, self.aes.block_encrypt(self.state))\n",
    "        \n",
    "        \n",
    "    def __mac_finalize(self):\n",
    "        self.state = xor_two_bytes(self.state, self.k2 if self.padding_used else self.k1)\n",
    "        return self.aes.block_encrypt(self.state)\n",
    "          \n",
    "        \n",
    "    def compute_mac(self, data):\n",
    "        def add_omac_padding(b):\n",
    "            padding_len = ceil(len(b) / self.aes_block_size) * self.aes_block_size - len(b)\n",
    "            # 128 это '10000000'\n",
    "            return b + bytearray([128] + [0] * (padding_len - 1))\n",
    "        \n",
    "        self.state = None # состояние перед AesBlockEncrypt\n",
    "        self.padding_used = False\n",
    "        \n",
    "        if len(data) % self.aes_block_size != 0:\n",
    "            data = add_omac_padding(data)\n",
    "            self.padding_used = True\n",
    "        \n",
    "        for i in range(0, len(data), self.aes_block_size):\n",
    "            self.__mac_add_block(data[i:i + self.aes_block_size])\n",
    "            \n",
    "        tag = self.__mac_finalize()\n",
    "        return tag   \n",
    "    \n",
    "    \n",
    "    def verify_mac(self, data, tag):\n",
    "        return self.compute_mac(data) == tag"
   ]
  },
  {
   "cell_type": "markdown",
   "metadata": {},
   "source": [
    "## Реализация truncated-MAC (64 бита)"
   ]
  },
  {
   "cell_type": "code",
   "execution_count": 69,
   "metadata": {},
   "outputs": [],
   "source": [
    "class TruncatedMAC:\n",
    "    def __init__(self, k):\n",
    "        self.octet_size = 8\n",
    "        self.bytes_order = 'big'\n",
    "        self.aes_block_size = 16\n",
    "        self.truncated_size = 8\n",
    "        self.k0 = k\n",
    "        self.aes = AESBlockEnrypt(self.k0)\n",
    "        \n",
    "        \n",
    "    def __mac_add_block(self, data_block):\n",
    "        self.state = self.aes.block_encrypt(xor_two_bytes(self.state, data_block))\n",
    "        \n",
    "        \n",
    "    def __mac_finalize(self):\n",
    "        return self.state[:self.truncated_size]\n",
    "    \n",
    "    \n",
    "    def compute_mac(self, data):\n",
    "        def add_pkcs5_padding(b):\n",
    "            padding_len = self.aes_block_size - len(data) % self.aes_block_size\n",
    "            return data + (chr(padding_len) * padding_len).encode()\n",
    "        \n",
    "        self.state = bytearray(self.aes_block_size)\n",
    "        \n",
    "        if len(data) % self.aes_block_size != 0:\n",
    "            data = add_pkcs5_padding(data)\n",
    "            \n",
    "        for i in range(0, len(data), self.aes_block_size):\n",
    "            self.__mac_add_block(data[i:i + self.aes_block_size])\n",
    "            \n",
    "        tag = self.__mac_finalize()\n",
    "        return tag \n",
    "    \n",
    "    \n",
    "    def verify_mac(self, data, tag):\n",
    "        return self.compute_mac(data) == tag"
   ]
  },
  {
   "cell_type": "markdown",
   "metadata": {},
   "source": [
    "## Реализация HMAC"
   ]
  },
  {
   "cell_type": "code",
   "execution_count": 8,
   "metadata": {},
   "outputs": [],
   "source": [
    "class HMAC:\n",
    "    def __init__(self, key):\n",
    "        self.k = key \n",
    "        self.opad = 0x5c\n",
    "        self.ipad = 0x36\n",
    "        self.k_xor_opad = bytearray([self.opad ^ i for i in self.k])\n",
    "        self.k_xor_ipad = bytearray([self.ipad ^ i for i in self.k])\n",
    "        self.block_size = 64\n",
    "        \n",
    "    def __mac_add_block(self, data_block):\n",
    "        self.sha256_hash.update(data_block)\n",
    "    \n",
    "    \n",
    "    def __mac_finalize(self):\n",
    "        return sha256(self.k_xor_opad + self.sha256_hash.digest()).digest()\n",
    "    \n",
    "    \n",
    "    def compute_mac(self, data):\n",
    "        self.sha256_hash = sha256()\n",
    "        self.sha256_hash.update(self.k_xor_ipad)\n",
    "        \n",
    "        for i in range(0, len(data), self.block_size):\n",
    "            self.__mac_add_block(data[i:i + self.block_size])\n",
    "        \n",
    "        tag = self.__mac_finalize()\n",
    "        return tag\n",
    "    \n",
    "    \n",
    "    def verify_mac(self, data, tag):\n",
    "        return self.compute_mac(data) == tag "
   ]
  },
  {
   "cell_type": "markdown",
   "metadata": {},
   "source": [
    "# Задание 3\n",
    "Для каждого алгоритма выработки кода аутентичности вычислить и проверить для произвольного текст длины 2,5 блока"
   ]
  },
  {
   "cell_type": "code",
   "execution_count": 70,
   "metadata": {},
   "outputs": [],
   "source": [
    "key = os.urandom(aes_block_size)\n",
    "data = os.urandom(int(aes_block_size * 2.5))\n",
    "\n",
    "omac = OMAC(key)\n",
    "tag_omac = omac.compute_mac(data)\n",
    "assert (omac.verify_mac(data, tag_omac) == True)\n",
    "\n",
    "tr_mac = TruncatedMAC(key)\n",
    "tag_tr_mac = tr_mac.compute_mac(data)\n",
    "assert (tr_mac.verify_mac(data, tag_tr_mac) == True)\n",
    "\n",
    "hmac = HMAC(key)\n",
    "tag_hmac = hmac.compute_mac(data)\n",
    "assert (hmac.verify_mac(data, tag_hmac) == True)"
   ]
  },
  {
   "cell_type": "markdown",
   "metadata": {},
   "source": [
    "Поменять один бит в блоке - убедиться, что проверка кода аутентичности не выполняется, для модифицированных данных"
   ]
  },
  {
   "cell_type": "code",
   "execution_count": 10,
   "metadata": {},
   "outputs": [],
   "source": [
    "changed_data = bytearray(data)\n",
    "changed_data[0] += 1\n",
    "changed_data = bytes(changed_data)\n",
    "\n",
    "assert (omac.verify_mac(changed_data, key) == False)\n",
    "assert (tr_mac.verify_mac(changed_data, key) == False)\n",
    "assert (hmac.verify_mac(changed_data, key) == False)"
   ]
  },
  {
   "cell_type": "markdown",
   "metadata": {},
   "source": [
    "# Задание 4\n",
    "Замерить производительность OMAC и HMAC для сообщений, длины 0.1, 1, 10, 1024 KB (не менее 1000 сообщений)"
   ]
  },
  {
   "cell_type": "code",
   "execution_count": 26,
   "metadata": {},
   "outputs": [],
   "source": [
    "messages_len = [100, 1000, 10000, 1024000]"
   ]
  },
  {
   "cell_type": "code",
   "execution_count": 16,
   "metadata": {},
   "outputs": [],
   "source": [
    "# 1000 сообщений длиной 0.1 KB\n",
    "messages_1 = [os.urandom(messages_len[0]) for _ in range(1000)]\n",
    "\n",
    "# 1000 сообщений длиной 1 KB\n",
    "messages_2 = [os.urandom(messages_len[1]) for _ in range(1000)]\n",
    "\n",
    "# 1000 сообщений длиной 10 KB\n",
    "messages_3 = [os.urandom(messages_len[2]) for _ in range(1000)]\n",
    "\n",
    "# 1000 сообщений длиной 1024 KB\n",
    "messages_4 = [os.urandom(messages_len[3]) for _ in range(1000)]"
   ]
  },
  {
   "cell_type": "code",
   "execution_count": 72,
   "metadata": {},
   "outputs": [],
   "source": [
    "omac_times = []\n",
    "hmac_times = []"
   ]
  },
  {
   "cell_type": "code",
   "execution_count": 90,
   "metadata": {},
   "outputs": [
    {
     "name": "stderr",
     "output_type": "stream",
     "text": [
      "100%|██████████| 1000/1000 [00:00<00:00, 13167.98it/s]\n"
     ]
    }
   ],
   "source": [
    "start_time = time()\n",
    "for message in tqdm(messages_1):\n",
    "    omac.compute_mac(message)\n",
    "omac_times.append(time() - start_time)"
   ]
  },
  {
   "cell_type": "code",
   "execution_count": 91,
   "metadata": {},
   "outputs": [
    {
     "name": "stderr",
     "output_type": "stream",
     "text": [
      "100%|██████████| 1000/1000 [00:00<00:00, 1640.59it/s]\n"
     ]
    }
   ],
   "source": [
    "start_time = time()\n",
    "for message in tqdm(messages_2):\n",
    "    omac.compute_mac(message)\n",
    "omac_times.append(time() - start_time)"
   ]
  },
  {
   "cell_type": "code",
   "execution_count": 92,
   "metadata": {},
   "outputs": [
    {
     "name": "stderr",
     "output_type": "stream",
     "text": [
      "100%|██████████| 1000/1000 [00:05<00:00, 180.86it/s]\n"
     ]
    }
   ],
   "source": [
    "start_time = time()\n",
    "for message in tqdm(messages_3):\n",
    "    omac.compute_mac(message)\n",
    "omac_times.append(time() - start_time)"
   ]
  },
  {
   "cell_type": "code",
   "execution_count": 76,
   "metadata": {},
   "outputs": [
    {
     "name": "stderr",
     "output_type": "stream",
     "text": [
      "100%|██████████| 1000/1000 [08:57<00:00,  1.86it/s]\n"
     ]
    }
   ],
   "source": [
    "start_time = time()\n",
    "for message in tqdm(messages_4):\n",
    "    omac.compute_mac(message)\n",
    "omac_times.append(time() - start_time)"
   ]
  },
  {
   "cell_type": "code",
   "execution_count": 77,
   "metadata": {},
   "outputs": [
    {
     "name": "stderr",
     "output_type": "stream",
     "text": [
      "100%|██████████| 1000/1000 [00:00<00:00, 203005.86it/s]\n"
     ]
    }
   ],
   "source": [
    "start_time = time()\n",
    "for message in tqdm(messages_1):\n",
    "    hmac.compute_mac(message)\n",
    "hmac_times.append(time() - start_time)"
   ]
  },
  {
   "cell_type": "code",
   "execution_count": 78,
   "metadata": {},
   "outputs": [
    {
     "name": "stderr",
     "output_type": "stream",
     "text": [
      "100%|██████████| 1000/1000 [00:00<00:00, 67372.97it/s]\n"
     ]
    }
   ],
   "source": [
    "start_time = time()\n",
    "for message in tqdm(messages_2):\n",
    "    hmac.compute_mac(message)\n",
    "hmac_times.append(time() - start_time)"
   ]
  },
  {
   "cell_type": "code",
   "execution_count": 79,
   "metadata": {},
   "outputs": [
    {
     "name": "stderr",
     "output_type": "stream",
     "text": [
      "100%|██████████| 1000/1000 [00:00<00:00, 9500.27it/s]\n"
     ]
    }
   ],
   "source": [
    "start_time = time()\n",
    "for message in tqdm(messages_3):\n",
    "    hmac.compute_mac(message)\n",
    "hmac_times.append(time() - start_time)"
   ]
  },
  {
   "cell_type": "code",
   "execution_count": 80,
   "metadata": {},
   "outputs": [
    {
     "name": "stderr",
     "output_type": "stream",
     "text": [
      "100%|██████████| 1000/1000 [00:10<00:00, 97.55it/s]\n"
     ]
    }
   ],
   "source": [
    "start_time = time()\n",
    "for message in tqdm(messages_4):\n",
    "    hmac.compute_mac(message)\n",
    "hmac_times.append(time() - start_time)"
   ]
  },
  {
   "cell_type": "markdown",
   "metadata": {},
   "source": [
    "### ❗️То, что теперь объект AES создается 1 раз, а не много-много раз, существенно снизило время выполнения OMAC\n",
    "Для 1000 1024 KB сообщений 22 мин -> 9 мин"
   ]
  },
  {
   "cell_type": "code",
   "execution_count": 94,
   "metadata": {},
   "outputs": [
    {
     "name": "stdout",
     "output_type": "stream",
     "text": [
      "[0.07813191413879395, 0.6117300987243652, 5.531458854675293, 537.6261529922485]\n",
      "[0.007134914398193359, 0.01707601547241211, 0.10743880271911621, 10.253053188323975]\n"
     ]
    }
   ],
   "source": [
    "print(omac_times)\n",
    "print(hmac_times)"
   ]
  },
  {
   "cell_type": "code",
   "execution_count": 95,
   "metadata": {},
   "outputs": [
    {
     "data": {
      "image/png": "[encoded data removed]",
      "text/plain": [
       "<Figure size 720x360 with 1 Axes>"
      ]
     },
     "metadata": {},
     "output_type": "display_data"
    }
   ],
   "source": [
    "plt.figure(figsize=(10, 5))\n",
    "plt.title('Зависимость среднего времени выполнения OMAC от размера сообщения')\n",
    "plt.plot(messages_len, omac_times, color='r')\n",
    "plt.savefig('omac_stats.png')\n",
    "plt.show()"
   ]
  },
  {
   "cell_type": "code",
   "execution_count": 96,
   "metadata": {},
   "outputs": [
    {
     "data": {
      "image/png": "[encoded data removed]",
      "text/plain": [
       "<Figure size 720x360 with 1 Axes>"
      ]
     },
     "metadata": {},
     "output_type": "display_data"
    }
   ],
   "source": [
    "plt.figure(figsize=(10, 5))\n",
    "plt.title('Зависимость среднего времени выполнения HMAC от размера сообщения')\n",
    "plt.plot(messages_len, hmac_times, color='g')\n",
    "plt.savefig('hmac_stats.png')\n",
    "plt.show()"
   ]
  },
  {
   "cell_type": "code",
   "execution_count": null,
   "metadata": {},
   "outputs": [],
   "source": []
  }
 ],
 "metadata": {
  "kernelspec": {
   "display_name": "Python 3",
   "language": "python",
   "name": "python3"
  },
  "language_info": {
   "codemirror_mode": {
    "name": "ipython",
    "version": 3
   },
   "file_extension": ".py",
   "mimetype": "text/x-python",
   "name": "python",
   "nbconvert_exporter": "python",
   "pygments_lexer": "ipython3",
   "version": "3.6.5"
  }
 },
 "nbformat": 4,
 "nbformat_minor": 2
}
