{
 "cells": [
  {
   "cell_type": "code",
   "execution_count": 1,
   "metadata": {},
   "outputs": [],
   "source": [
    "from Crypto.Cipher import AES\n",
    "import os\n",
    "from hashlib import sha256\n",
    "import hmac\n",
    "from tqdm import tqdm"
   ]
  },
  {
   "cell_type": "code",
   "execution_count": 2,
   "metadata": {},
   "outputs": [],
   "source": [
    "from cryptography.hazmat.primitives.ciphers import Cipher, algorithms, modes\n",
    "from cryptography.hazmat.backends import default_backend"
   ]
  },
  {
   "cell_type": "code",
   "execution_count": 10,
   "metadata": {},
   "outputs": [],
   "source": [
    "class AuthenticEncryptor:\n",
    "    def __init__(self, is_encrypt, k_e, k_i):\n",
    "        self.is_encrypt = is_encrypt\n",
    "        self.k_e = k_e\n",
    "        self.k_i = k_i\n",
    "        self.aes_block_size = 16\n",
    "        self.tag_size = 32\n",
    "        self.backend = default_backend()\n",
    "        \n",
    "        \n",
    "    def add_block(self, block, is_final=False):            \n",
    "        if self.is_encrypt:\n",
    "            update_part = self.aes_ctr.update(block)\n",
    "            self.tag.update(update_part)\n",
    "            \n",
    "            if is_final:\n",
    "                update_part += self.aes_ctr.finalize() + self.tag.digest()\n",
    "            return update_part \n",
    "        \n",
    "        else:\n",
    "            plaintext = self.aes_ctr.update(block)\n",
    "            if is_final:\n",
    "                plaintext += self.aes_ctr.finalize()\n",
    "            return plaintext\n",
    "    \n",
    "    \n",
    "    def process_data(self, data):\n",
    "        if self.is_encrypt:\n",
    "            iv = os.urandom(self.aes_block_size)\n",
    "            self.tag = hmac.new(self.k_i, iv, digestmod=sha256)\n",
    "            self.ciphertext = iv\n",
    "            self.aes_ctr = Cipher(algorithms.AES(self.k_e), modes.CTR(iv), \n",
    "                                  backend=self.backend).encryptor()\n",
    "            \n",
    "            for i in range(0, len(data), self.aes_block_size):\n",
    "                self.ciphertext += self.add_block(data[i:i+self.aes_block_size], i + self.aes_block_size >= len(data))\n",
    "    \n",
    "            return self.ciphertext\n",
    "        \n",
    "        else:\n",
    "            tag = data[-self.tag_size:]\n",
    "            data = data[:-self.tag_size]\n",
    "            if tag != hmac.new(self.k_i, data, sha256).digest():\n",
    "                raise ValueError('Unsuccessful MAC check')\n",
    "                \n",
    "            self.aes_ctr = Cipher(algorithms.AES(self.k_e), modes.CTR(data[:self.aes_block_size]), \n",
    "                                  backend=self.backend).decryptor()\n",
    "            \n",
    "            data = data[self.aes_block_size:]\n",
    "            self.plaintext = bytearray()\n",
    "            for i in range(0, len(data), self.aes_block_size):\n",
    "                self.plaintext += self.add_block(data[i:i+self.aes_block_size], i + self.aes_block_size >= len(data))\n",
    "            \n",
    "            return self.plaintext"
   ]
  },
  {
   "cell_type": "code",
   "execution_count": 11,
   "metadata": {},
   "outputs": [],
   "source": [
    "k_e = os.urandom(16)\n",
    "k_i = os.urandom(32)"
   ]
  },
  {
   "cell_type": "code",
   "execution_count": 12,
   "metadata": {},
   "outputs": [],
   "source": [
    "aut_e = AuthenticEncryptor(True, k_e, k_i)"
   ]
  },
  {
   "cell_type": "code",
   "execution_count": 13,
   "metadata": {},
   "outputs": [],
   "source": [
    "# 100 MB\n",
    "data = os.urandom(10 ** 8)"
   ]
  },
  {
   "cell_type": "code",
   "execution_count": 14,
   "metadata": {},
   "outputs": [],
   "source": [
    "cipher = aut_e.process_data(data)"
   ]
  },
  {
   "cell_type": "code",
   "execution_count": 15,
   "metadata": {},
   "outputs": [],
   "source": [
    "aut_d = AuthenticEncryptor(False, k_e, k_i)"
   ]
  },
  {
   "cell_type": "code",
   "execution_count": 16,
   "metadata": {},
   "outputs": [],
   "source": [
    "assert aut_d.process_data(cipher) == data"
   ]
  },
  {
   "cell_type": "code",
   "execution_count": null,
   "metadata": {},
   "outputs": [],
   "source": []
  }
 ],
 "metadata": {
  "kernelspec": {
   "display_name": "Python 3",
   "language": "python",
   "name": "python3"
  },
  "language_info": {
   "codemirror_mode": {
    "name": "ipython",
    "version": 3
   },
   "file_extension": ".py",
   "mimetype": "text/x-python",
   "name": "python",
   "nbconvert_exporter": "python",
   "pygments_lexer": "ipython3",
   "version": "3.6.8"
  }
 },
 "nbformat": 4,
 "nbformat_minor": 2
}
