{
 "cells": [
  {
   "cell_type": "markdown",
   "metadata": {},
   "source": [
    "# Протокол SIGMA"
   ]
  },
  {
   "cell_type": "code",
   "execution_count": 1,
   "metadata": {},
   "outputs": [],
   "source": [
    "from cryptography.hazmat.backends import default_backend\n",
    "from cryptography.hazmat.primitives.asymmetric import ec\n",
    "from cryptography.hazmat.primitives import serialization, hashes\n",
    "import os\n",
    "from cryptography.hazmat.primitives.ciphers import Cipher, algorithms, modes\n",
    "from hashlib import sha256\n",
    "import hmac"
   ]
  },
  {
   "cell_type": "code",
   "execution_count": 2,
   "metadata": {},
   "outputs": [],
   "source": [
    "class Alice:\n",
    "    def __init__(self, name):\n",
    "        self.ecdsa_secret_key = ec.generate_private_key(ec.SECP384R1(), default_backend())\n",
    "        self.ecdh_secret_key = ec.generate_private_key(ec.SECP384R1(), default_backend())\n",
    "        self.data = {'A_id': name.encode()}\n",
    "        self.r_size = 128\n",
    "        self.aes_block_size = 16\n",
    "        self.tag_size = 32\n",
    "        \n",
    "        \n",
    "    def receive_data(self, data):\n",
    "        self.data.update(data)\n",
    "        \n",
    "        \n",
    "    def step_0(self):\n",
    "        self.data['ECDSA_SK_A'] = self.ecdsa_secret_key\n",
    "        self.data['ECDSA_PK_A'] = self.ecdsa_secret_key.public_key()\n",
    "        return {'ECDSA_PK_A': self.data['ECDSA_PK_A']}\n",
    "    \n",
    "    \n",
    "    def step_1(self):\n",
    "        self.data['DH_SK_A'] = self.ecdh_secret_key\n",
    "        self.data['DH_PK_A'] = self.ecdh_secret_key.public_key()\n",
    "        self.data['r_A'] = os.urandom(self.r_size)\n",
    "        return {'DH_PK_A': self.data['DH_PK_A'], 'r_A': self.data['r_A']}\n",
    "    \n",
    "    \n",
    "    def _transform_public_key_to_bytes(self, public_key):\n",
    "        return public_key.public_bytes(encoding=serialization.Encoding.PEM, \n",
    "                                       format=serialization.PublicFormat.SubjectPublicKeyInfo)\n",
    "\n",
    "    \n",
    "    def step_3(self):\n",
    "        # verify ECDSA sign\n",
    "        self.data['ECDSA_PK_B'].verify(self.data['ECDSA_SIGN_B'], self._transform_public_key_to_bytes(self.data['DH_PK_A']) +\n",
    "                                    self._transform_public_key_to_bytes(self.data['DH_PK_B']), ec.ECDSA(hashes.SHA256()))\n",
    "        \n",
    "        shared_key = hmac.new(self.data['r_A'] + self.data['r_B'], \n",
    "                             self.data['DH_SK_A'].exchange(ec.ECDH(), self.data['DH_PK_B']),\n",
    "                             sha256).digest()\n",
    "        \n",
    "        self.data['k_m'] = shared_key[:len(shared_key) // 2]\n",
    "        self.data['k_e'] = shared_key[len(shared_key) // 2:]\n",
    "        \n",
    "        #verify HMAC\n",
    "        if self.data['MAC_B'] != hmac.new(self.data['k_m'], self.data['B_id'], sha256).digest():\n",
    "            raise ValueError('MAC_B is not correct')\n",
    "            \n",
    "        self.data['ECDSA_SIGN_A'] = self.ecdsa_secret_key.sign(self._transform_public_key_to_bytes(self.data['DH_PK_A']) +\n",
    "                                                              self._transform_public_key_to_bytes(self.data['DH_PK_B']),\n",
    "                                                              ec.ECDSA(hashes.SHA256()))\n",
    "        \n",
    "        self.data['MAC_A'] = hmac.new(self.data['k_m'], self.data['A_id'], sha256).digest()\n",
    "        return {'A_id': self.data['A_id'],\n",
    "               'ECDSA_SIGN_A': self.data['ECDSA_SIGN_A'], \n",
    "               'MAC_A': self.data['MAC_A']}\n",
    "    \n",
    "    \n",
    "    def _add_block(self, block, is_final=False):            \n",
    "        update_part = self.aes_ctr.update(block)\n",
    "        self.tag.update(update_part)\n",
    "\n",
    "        if is_final:\n",
    "            update_part += self.aes_ctr.finalize() + self.tag.digest()\n",
    "        return update_part \n",
    "    \n",
    "    \n",
    "    def process_data(self, data):\n",
    "        iv = os.urandom(self.aes_block_size)\n",
    "        self.tag = hmac.new(self.data['k_m'], iv, digestmod=sha256)\n",
    "        self.ciphertext = iv\n",
    "        self.aes_ctr = Cipher(algorithms.AES(self.data['k_e']), modes.CTR(iv), \n",
    "                              backend=default_backend()).encryptor()\n",
    "\n",
    "        for i in range(0, len(data), self.aes_block_size):\n",
    "            self.ciphertext += self._add_block(data[i:i+self.aes_block_size], i + self.aes_block_size >= len(data))\n",
    "\n",
    "        return self.ciphertext"
   ]
  },
  {
   "cell_type": "code",
   "execution_count": 3,
   "metadata": {},
   "outputs": [],
   "source": [
    "class Bob:\n",
    "    def __init__(self, name):\n",
    "        self.ecdsa_secret_key = ec.generate_private_key(ec.SECP384R1(), default_backend())\n",
    "        self.ecdh_secret_key = ec.generate_private_key(ec.SECP384R1(), default_backend())\n",
    "        self.data = {'B_id': name.encode()}\n",
    "        self.r_size = 128\n",
    "        self.aes_block_size = 16\n",
    "        self.tag_size = 32\n",
    "    \n",
    "    \n",
    "    def receive_data(self, data):\n",
    "        self.data.update(data)\n",
    "    \n",
    "    \n",
    "    def step_0(self):\n",
    "        self.data['ECDSA_SK_B'] = self.ecdsa_secret_key\n",
    "        self.data['ECDSA_PK_B'] = self.ecdsa_secret_key.public_key()\n",
    "        return {'ECDSA_PK_B': self.data['ECDSA_PK_B']}\n",
    "    \n",
    "    \n",
    "    def _transform_public_key_to_bytes(self, public_key):\n",
    "        return public_key.public_bytes(encoding=serialization.Encoding.PEM, \n",
    "                                       format=serialization.PublicFormat.SubjectPublicKeyInfo)\n",
    "    \n",
    "    \n",
    "    def step_2(self):\n",
    "        self.data['DH_SK_B'] = self.ecdh_secret_key\n",
    "        self.data['DH_PK_B'] = self.ecdh_secret_key.public_key()\n",
    "        self.data['r_B'] = os.urandom(self.r_size)\n",
    "        shared_key = hmac.new(self.data['r_A'] + self.data['r_B'],\n",
    "                              self.data['DH_SK_B'].exchange(ec.ECDH(), self.data['DH_PK_A']), \n",
    "                              sha256).digest()\n",
    "        self.data['k_m'] = shared_key[:len(shared_key) // 2]\n",
    "        self.data['k_e'] = shared_key[len(shared_key) // 2:]\n",
    "        \n",
    "        self.data['ECDSA_SIGN_B'] = self.ecdsa_secret_key.sign(self._transform_public_key_to_bytes(self.data['DH_PK_A']) +\n",
    "                                                              self._transform_public_key_to_bytes(self.data['DH_PK_B']),\n",
    "                                                              ec.ECDSA(hashes.SHA256()))\n",
    "        \n",
    "        self.data['MAC_B'] = hmac.new(self.data['k_m'], self.data['B_id'], sha256).digest()\n",
    "        return {'DH_PK_B': self.data['DH_PK_B'], \n",
    "               'r_B': self.data['r_B'], \n",
    "               'B_id': self.data['B_id'],\n",
    "               'ECDSA_SIGN_B': self.data['ECDSA_SIGN_B'],\n",
    "               'MAC_B': self.data['MAC_B']}\n",
    "    \n",
    "    \n",
    "    def step_4(self):\n",
    "        # verify ECDSA sign\n",
    "        self.data['ECDSA_PK_A'].verify(self.data['ECDSA_SIGN_A'], self._transform_public_key_to_bytes(self.data['DH_PK_A']) +\n",
    "                                    self._transform_public_key_to_bytes(self.data['DH_PK_B']), ec.ECDSA(hashes.SHA256()))\n",
    "        \n",
    "        #verify HMAC\n",
    "        if self.data['MAC_A'] != hmac.new(self.data['k_m'], self.data['A_id'], sha256).digest():\n",
    "            raise ValueError('MAC_A is not correct')\n",
    "        \n",
    "        print('Общие ключи для аутентификации и шифрования успешно получены')\n",
    "        \n",
    "    \n",
    "    def _add_block(self, block, is_final=False):            \n",
    "        plaintext = self.aes_ctr.update(block)\n",
    "        if is_final:\n",
    "            plaintext += self.aes_ctr.finalize()\n",
    "        return plaintext\n",
    "    \n",
    "    \n",
    "    def process_data(self, data):\n",
    "        tag = data[-self.tag_size:]\n",
    "        data = data[:-self.tag_size]\n",
    "        if tag != hmac.new(self.data['k_m'], data, sha256).digest():\n",
    "            raise ValueError('Unsuccessful MAC check')\n",
    "\n",
    "        self.aes_ctr = Cipher(algorithms.AES(self.data['k_e']), modes.CTR(data[:self.aes_block_size]), \n",
    "                              backend=default_backend()).decryptor()\n",
    "\n",
    "        data = data[self.aes_block_size:]\n",
    "        self.plaintext = bytearray()\n",
    "        for i in range(0, len(data), self.aes_block_size):\n",
    "            self.plaintext += self._add_block(data[i:i+self.aes_block_size], i + self.aes_block_size >= len(data))\n",
    "\n",
    "        return self.plaintext"
   ]
  },
  {
   "cell_type": "code",
   "execution_count": 4,
   "metadata": {},
   "outputs": [
    {
     "name": "stdout",
     "output_type": "stream",
     "text": [
      "Общие ключи для аутентификации и шифрования успешно получены\n"
     ]
    }
   ],
   "source": [
    "alice = Alice('alice')\n",
    "bob = Bob('bob')\n",
    "\n",
    "bob.receive_data(alice.step_0())\n",
    "alice.receive_data(bob.step_0())\n",
    "\n",
    "bob.receive_data(alice.step_1())\n",
    "\n",
    "alice.receive_data(bob.step_2())\n",
    "\n",
    "bob.receive_data(alice.step_3())\n",
    "\n",
    "bob.step_4()"
   ]
  },
  {
   "cell_type": "code",
   "execution_count": 5,
   "metadata": {},
   "outputs": [],
   "source": [
    "message = b'hello-bob-it-is-alice'"
   ]
  },
  {
   "cell_type": "code",
   "execution_count": 6,
   "metadata": {},
   "outputs": [],
   "source": [
    "cipher = alice.process_data(message)"
   ]
  },
  {
   "cell_type": "code",
   "execution_count": 7,
   "metadata": {},
   "outputs": [
    {
     "data": {
      "text/plain": [
       "True"
      ]
     },
     "execution_count": 7,
     "metadata": {},
     "output_type": "execute_result"
    }
   ],
   "source": [
    "bob.process_data(cipher) == message"
   ]
  },
  {
   "cell_type": "code",
   "execution_count": null,
   "metadata": {},
   "outputs": [],
   "source": []
  }
 ],
 "metadata": {
  "kernelspec": {
   "display_name": "Python 3",
   "language": "python",
   "name": "python3"
  },
  "language_info": {
   "codemirror_mode": {
    "name": "ipython",
    "version": 3
   },
   "file_extension": ".py",
   "mimetype": "text/x-python",
   "name": "python",
   "nbconvert_exporter": "python",
   "pygments_lexer": "ipython3",
   "version": "3.6.8"
  }
 },
 "nbformat": 4,
 "nbformat_minor": 2
}
